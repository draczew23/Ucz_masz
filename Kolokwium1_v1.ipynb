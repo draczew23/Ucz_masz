{
  "cells": [
    {
      "cell_type": "markdown",
      "id": "594defa4-4fb5-4cb3-a6b5-649daa96d9f3",
      "metadata": {
        "id": "594defa4-4fb5-4cb3-a6b5-649daa96d9f3"
      },
      "source": [
        "### Przygotowanie środowiska programistycznego"
      ]
    },
    {
      "cell_type": "code",
      "execution_count": 1,
      "id": "d6fa83e4-ca82-47d8-bc18-9bcd00f1d5d9",
      "metadata": {
        "id": "d6fa83e4-ca82-47d8-bc18-9bcd00f1d5d9"
      },
      "outputs": [],
      "source": [
        "import matplotlib.pyplot as plt\n",
        "import seaborn as sns\n",
        "import numpy as np\n",
        "import pandas as pd\n",
        "\n",
        "from sklearn.linear_model import LogisticRegression\n",
        "from sklearn.metrics import roc_curve, auc, roc_auc_score\n",
        "from sklearn.metrics import ConfusionMatrixDisplay\n",
        "from sklearn.metrics import RocCurveDisplay\n",
        "\n",
        "from termcolor import colored"
      ]
    },
    {
      "cell_type": "markdown",
      "id": "c53e915d-711a-4895-8196-1dc20a8c6a4c",
      "metadata": {
        "id": "c53e915d-711a-4895-8196-1dc20a8c6a4c"
      },
      "source": [
        "### Wczytanie danych\n",
        "\n",
        "Poniższa komórka wczytuje i wstępnie przetwarza dane."
      ]
    },
    {
      "cell_type": "code",
      "execution_count": 2,
      "id": "484d15a4-bc8d-48d2-ad03-41a2625158dd",
      "metadata": {
        "id": "484d15a4-bc8d-48d2-ad03-41a2625158dd"
      },
      "outputs": [
        {
          "data": {
            "text/html": [
              "<div>\n",
              "<style scoped>\n",
              "    .dataframe tbody tr th:only-of-type {\n",
              "        vertical-align: middle;\n",
              "    }\n",
              "\n",
              "    .dataframe tbody tr th {\n",
              "        vertical-align: top;\n",
              "    }\n",
              "\n",
              "    .dataframe thead th {\n",
              "        text-align: right;\n",
              "    }\n",
              "</style>\n",
              "<table border=\"1\" class=\"dataframe\">\n",
              "  <thead>\n",
              "    <tr style=\"text-align: right;\">\n",
              "      <th></th>\n",
              "      <th>Armii Krajowej</th>\n",
              "      <th>Bora-Komorowskiego</th>\n",
              "      <th>Bulwary</th>\n",
              "      <th>Grzegórzecka</th>\n",
              "      <th>Kamieńskiego</th>\n",
              "      <th>Klimeckiego</th>\n",
              "      <th>Kopernika</th>\n",
              "      <th>Kotlarska</th>\n",
              "      <th>Mogilska</th>\n",
              "      <th>Monte Cassino</th>\n",
              "      <th>...</th>\n",
              "      <th>Smoleńsk</th>\n",
              "      <th>Tyniecka</th>\n",
              "      <th>Wadowicka</th>\n",
              "      <th>Wielicka</th>\n",
              "      <th>Średnia temp.</th>\n",
              "      <th>Min. temp.</th>\n",
              "      <th>Maks. temp.</th>\n",
              "      <th>Odczuwalna temp.</th>\n",
              "      <th>Opady (mm)</th>\n",
              "      <th>Wiatr</th>\n",
              "    </tr>\n",
              "  </thead>\n",
              "  <tbody>\n",
              "    <tr>\n",
              "      <th>count</th>\n",
              "      <td>2187.000000</td>\n",
              "      <td>2187.000000</td>\n",
              "      <td>2187.000000</td>\n",
              "      <td>2187.000000</td>\n",
              "      <td>2187.000000</td>\n",
              "      <td>2187.000000</td>\n",
              "      <td>2187.000000</td>\n",
              "      <td>2187.000000</td>\n",
              "      <td>2187.000000</td>\n",
              "      <td>2187.000000</td>\n",
              "      <td>...</td>\n",
              "      <td>2187.000000</td>\n",
              "      <td>2187.000000</td>\n",
              "      <td>2187.000000</td>\n",
              "      <td>2187.000000</td>\n",
              "      <td>2187.000000</td>\n",
              "      <td>2187.000000</td>\n",
              "      <td>2187.000000</td>\n",
              "      <td>2187.000000</td>\n",
              "      <td>2187.000000</td>\n",
              "      <td>2187.000000</td>\n",
              "    </tr>\n",
              "    <tr>\n",
              "      <th>mean</th>\n",
              "      <td>225.358025</td>\n",
              "      <td>552.700960</td>\n",
              "      <td>1560.050297</td>\n",
              "      <td>475.310471</td>\n",
              "      <td>245.607682</td>\n",
              "      <td>801.543210</td>\n",
              "      <td>1328.685871</td>\n",
              "      <td>1582.722451</td>\n",
              "      <td>2016.113397</td>\n",
              "      <td>1179.466392</td>\n",
              "      <td>...</td>\n",
              "      <td>561.839049</td>\n",
              "      <td>1152.555098</td>\n",
              "      <td>834.720165</td>\n",
              "      <td>906.176955</td>\n",
              "      <td>9.897348</td>\n",
              "      <td>5.984454</td>\n",
              "      <td>13.790581</td>\n",
              "      <td>8.460448</td>\n",
              "      <td>1.782396</td>\n",
              "      <td>10.927298</td>\n",
              "    </tr>\n",
              "    <tr>\n",
              "      <th>std</th>\n",
              "      <td>436.592723</td>\n",
              "      <td>573.898407</td>\n",
              "      <td>1287.927869</td>\n",
              "      <td>801.522689</td>\n",
              "      <td>474.846343</td>\n",
              "      <td>824.064314</td>\n",
              "      <td>1250.413194</td>\n",
              "      <td>1156.375820</td>\n",
              "      <td>1380.121524</td>\n",
              "      <td>1031.872796</td>\n",
              "      <td>...</td>\n",
              "      <td>407.247080</td>\n",
              "      <td>1314.490292</td>\n",
              "      <td>626.779461</td>\n",
              "      <td>672.754362</td>\n",
              "      <td>8.221521</td>\n",
              "      <td>7.175345</td>\n",
              "      <td>9.491318</td>\n",
              "      <td>9.694117</td>\n",
              "      <td>4.829048</td>\n",
              "      <td>5.493548</td>\n",
              "    </tr>\n",
              "    <tr>\n",
              "      <th>min</th>\n",
              "      <td>0.000000</td>\n",
              "      <td>0.000000</td>\n",
              "      <td>0.000000</td>\n",
              "      <td>0.000000</td>\n",
              "      <td>0.000000</td>\n",
              "      <td>0.000000</td>\n",
              "      <td>0.000000</td>\n",
              "      <td>0.000000</td>\n",
              "      <td>41.000000</td>\n",
              "      <td>0.000000</td>\n",
              "      <td>...</td>\n",
              "      <td>0.000000</td>\n",
              "      <td>0.000000</td>\n",
              "      <td>1.000000</td>\n",
              "      <td>14.000000</td>\n",
              "      <td>-16.000000</td>\n",
              "      <td>-18.000000</td>\n",
              "      <td>-15.000000</td>\n",
              "      <td>-22.000000</td>\n",
              "      <td>0.000000</td>\n",
              "      <td>0.000000</td>\n",
              "    </tr>\n",
              "    <tr>\n",
              "      <th>25%</th>\n",
              "      <td>0.000000</td>\n",
              "      <td>0.000000</td>\n",
              "      <td>439.500000</td>\n",
              "      <td>0.000000</td>\n",
              "      <td>0.000000</td>\n",
              "      <td>0.000000</td>\n",
              "      <td>0.000000</td>\n",
              "      <td>601.500000</td>\n",
              "      <td>829.000000</td>\n",
              "      <td>305.500000</td>\n",
              "      <td>...</td>\n",
              "      <td>236.000000</td>\n",
              "      <td>181.000000</td>\n",
              "      <td>314.000000</td>\n",
              "      <td>321.000000</td>\n",
              "      <td>3.500000</td>\n",
              "      <td>1.000000</td>\n",
              "      <td>6.000000</td>\n",
              "      <td>0.000000</td>\n",
              "      <td>0.000000</td>\n",
              "      <td>7.000000</td>\n",
              "    </tr>\n",
              "    <tr>\n",
              "      <th>50%</th>\n",
              "      <td>0.000000</td>\n",
              "      <td>354.000000</td>\n",
              "      <td>1186.000000</td>\n",
              "      <td>0.000000</td>\n",
              "      <td>0.000000</td>\n",
              "      <td>531.000000</td>\n",
              "      <td>1060.000000</td>\n",
              "      <td>1304.000000</td>\n",
              "      <td>1724.000000</td>\n",
              "      <td>894.000000</td>\n",
              "      <td>...</td>\n",
              "      <td>525.000000</td>\n",
              "      <td>599.000000</td>\n",
              "      <td>684.000000</td>\n",
              "      <td>771.000000</td>\n",
              "      <td>10.000000</td>\n",
              "      <td>6.000000</td>\n",
              "      <td>14.000000</td>\n",
              "      <td>9.000000</td>\n",
              "      <td>0.000000</td>\n",
              "      <td>10.000000</td>\n",
              "    </tr>\n",
              "    <tr>\n",
              "      <th>75%</th>\n",
              "      <td>216.500000</td>\n",
              "      <td>945.000000</td>\n",
              "      <td>2526.500000</td>\n",
              "      <td>803.500000</td>\n",
              "      <td>233.000000</td>\n",
              "      <td>1339.500000</td>\n",
              "      <td>2181.000000</td>\n",
              "      <td>2392.000000</td>\n",
              "      <td>3005.000000</td>\n",
              "      <td>1944.500000</td>\n",
              "      <td>...</td>\n",
              "      <td>871.500000</td>\n",
              "      <td>1871.000000</td>\n",
              "      <td>1214.000000</td>\n",
              "      <td>1353.000000</td>\n",
              "      <td>16.500000</td>\n",
              "      <td>12.000000</td>\n",
              "      <td>22.000000</td>\n",
              "      <td>17.000000</td>\n",
              "      <td>1.100000</td>\n",
              "      <td>14.000000</td>\n",
              "    </tr>\n",
              "    <tr>\n",
              "      <th>max</th>\n",
              "      <td>2042.000000</td>\n",
              "      <td>2335.000000</td>\n",
              "      <td>7075.000000</td>\n",
              "      <td>3182.000000</td>\n",
              "      <td>2084.000000</td>\n",
              "      <td>3418.000000</td>\n",
              "      <td>4572.000000</td>\n",
              "      <td>6142.000000</td>\n",
              "      <td>5436.000000</td>\n",
              "      <td>4025.000000</td>\n",
              "      <td>...</td>\n",
              "      <td>1584.000000</td>\n",
              "      <td>8824.000000</td>\n",
              "      <td>3549.000000</td>\n",
              "      <td>2892.000000</td>\n",
              "      <td>28.500000</td>\n",
              "      <td>21.000000</td>\n",
              "      <td>39.000000</td>\n",
              "      <td>30.000000</td>\n",
              "      <td>63.000000</td>\n",
              "      <td>41.000000</td>\n",
              "    </tr>\n",
              "  </tbody>\n",
              "</table>\n",
              "<p>8 rows × 22 columns</p>\n",
              "</div>"
            ],
            "text/plain": [
              "       Armii Krajowej  Bora-Komorowskiego      Bulwary  Grzegórzecka  \\\n",
              "count     2187.000000         2187.000000  2187.000000   2187.000000   \n",
              "mean       225.358025          552.700960  1560.050297    475.310471   \n",
              "std        436.592723          573.898407  1287.927869    801.522689   \n",
              "min          0.000000            0.000000     0.000000      0.000000   \n",
              "25%          0.000000            0.000000   439.500000      0.000000   \n",
              "50%          0.000000          354.000000  1186.000000      0.000000   \n",
              "75%        216.500000          945.000000  2526.500000    803.500000   \n",
              "max       2042.000000         2335.000000  7075.000000   3182.000000   \n",
              "\n",
              "       Kamieńskiego  Klimeckiego    Kopernika    Kotlarska     Mogilska  \\\n",
              "count   2187.000000  2187.000000  2187.000000  2187.000000  2187.000000   \n",
              "mean     245.607682   801.543210  1328.685871  1582.722451  2016.113397   \n",
              "std      474.846343   824.064314  1250.413194  1156.375820  1380.121524   \n",
              "min        0.000000     0.000000     0.000000     0.000000    41.000000   \n",
              "25%        0.000000     0.000000     0.000000   601.500000   829.000000   \n",
              "50%        0.000000   531.000000  1060.000000  1304.000000  1724.000000   \n",
              "75%      233.000000  1339.500000  2181.000000  2392.000000  3005.000000   \n",
              "max     2084.000000  3418.000000  4572.000000  6142.000000  5436.000000   \n",
              "\n",
              "       Monte Cassino  ...     Smoleńsk     Tyniecka    Wadowicka     Wielicka  \\\n",
              "count    2187.000000  ...  2187.000000  2187.000000  2187.000000  2187.000000   \n",
              "mean     1179.466392  ...   561.839049  1152.555098   834.720165   906.176955   \n",
              "std      1031.872796  ...   407.247080  1314.490292   626.779461   672.754362   \n",
              "min         0.000000  ...     0.000000     0.000000     1.000000    14.000000   \n",
              "25%       305.500000  ...   236.000000   181.000000   314.000000   321.000000   \n",
              "50%       894.000000  ...   525.000000   599.000000   684.000000   771.000000   \n",
              "75%      1944.500000  ...   871.500000  1871.000000  1214.000000  1353.000000   \n",
              "max      4025.000000  ...  1584.000000  8824.000000  3549.000000  2892.000000   \n",
              "\n",
              "       Średnia temp.   Min. temp.  Maks. temp.  Odczuwalna temp.   Opady (mm)  \\\n",
              "count    2187.000000  2187.000000  2187.000000       2187.000000  2187.000000   \n",
              "mean        9.897348     5.984454    13.790581          8.460448     1.782396   \n",
              "std         8.221521     7.175345     9.491318          9.694117     4.829048   \n",
              "min       -16.000000   -18.000000   -15.000000        -22.000000     0.000000   \n",
              "25%         3.500000     1.000000     6.000000          0.000000     0.000000   \n",
              "50%        10.000000     6.000000    14.000000          9.000000     0.000000   \n",
              "75%        16.500000    12.000000    22.000000         17.000000     1.100000   \n",
              "max        28.500000    21.000000    39.000000         30.000000    63.000000   \n",
              "\n",
              "             Wiatr  \n",
              "count  2187.000000  \n",
              "mean     10.927298  \n",
              "std       5.493548  \n",
              "min       0.000000  \n",
              "25%       7.000000  \n",
              "50%      10.000000  \n",
              "75%      14.000000  \n",
              "max      41.000000  \n",
              "\n",
              "[8 rows x 22 columns]"
            ]
          },
          "execution_count": 2,
          "metadata": {},
          "output_type": "execute_result"
        }
      ],
      "source": [
        "url = \"https://docs.google.com/spreadsheets/d/e/2PACX-1vQZFuVJB21qqms2KeE1kIAKdE6xtHLlyq00khl24IOdFWncOVoyurppSxcrbSRebFhn-QdAlGzzUjMJ/pub?gid=1842745960&single=true&output=csv\"\n",
        "\n",
        "df = pd.read_csv(url, sep=\",\",parse_dates=[0])\n",
        "df = df.rename(columns={' ' : \"Data\"})\n",
        "df = df.fillna(0)\n",
        "df.describe()"
      ]
    },
    {
      "cell_type": "markdown",
      "id": "a5a5a126-c5ac-4476-a455-63ada1edd3ae",
      "metadata": {
        "id": "a5a5a126-c5ac-4476-a455-63ada1edd3ae"
      },
      "source": [
        "# Zadanie 1\n",
        "\n",
        "### Analiza wizualna danych\n",
        "\n",
        "**Proszę:**\n",
        "\n",
        "* wypisać na ekran nazwy kolumn znajdujące się w zbiorze danych\n",
        "* narysować na odzielnych rysunkach wykresy liczby rowerzystów w funkcji daty dla ulic **Wielickiej** i **Kopernika**\n",
        "* narysować dwuwymiarowy wykres liczby rowerzystów na ulicach **Wielickiej (oś X)** i **Kopernika (oś Y)**\n",
        "* znaleźć dzień kiedy ulicą **Kopernika** przechało najwięcej rowerzystów. Proszę wypisać na ekran  znalezioną datę oraz liczbę rowerzytstów."
      ]
    },
    {
      "cell_type": "code",
      "execution_count": 3,
      "id": "544921bf-7d72-4a03-80d0-dc5f1243e282",
      "metadata": {
        "id": "544921bf-7d72-4a03-80d0-dc5f1243e282"
      },
      "outputs": [
        {
          "name": "stdout",
          "output_type": "stream",
          "text": [
            "Index(['Data', 'Armii Krajowej', 'Bora-Komorowskiego', 'Bulwary', 'Dworzec',\n",
            "       'Grzegórzecka', 'Kamieńskiego', 'Klimeckiego', 'Kopernika', 'Kotlarska',\n",
            "       'Mogilska', 'Monte Cassino', 'Niepołomska', 'Nowohucka', 'Smoleńsk',\n",
            "       'Tyniecka', 'Wadowicka', 'Wielicka', 'Średnia temp.', 'Min. temp.',\n",
            "       'Maks. temp.', 'Odczuwalna temp.', 'Opady (mm)', 'Wiatr'],\n",
            "      dtype='object')\n"
          ]
        }
      ],
      "source": [
        "print(df.columns)   # nazwy kolumn\n",
        "\n",
        "dates = df['Data']\n",
        "wiel = df['Wielicka']\n",
        "kop = df[\"Kopernika\"]\n",
        "\n",
        "\n",
        "\n",
        "# print(colored(\"Dnia:\",\"blue\"),date, colored(\"ulicą Kopernika przejechało\",\"blue\"),value,colored(\"rowerzystów.\",\"blue\"))"
      ]
    },
    {
      "cell_type": "markdown",
      "id": "f1eacb81",
      "metadata": {},
      "source": [
        "# Wielicka"
      ]
    },
    {
      "cell_type": "code",
      "execution_count": 4,
      "id": "549566c4",
      "metadata": {},
      "outputs": [
        {
          "data": {
            "text/plain": [
              "Text(0.5, 1.0, 'Wielicka')"
            ]
          },
          "execution_count": 4,
          "metadata": {},
          "output_type": "execute_result"
        },
        {
          "data": {
            "image/png": "[encoded data removed]",
            "text/plain": [
              "<Figure size 432x288 with 1 Axes>"
            ]
          },
          "metadata": {
            "needs_background": "light"
          },
          "output_type": "display_data"
        }
      ],
      "source": [
        "plt.scatter(dates, wiel)\n",
        "plt.xlabel(\"Data\")\n",
        "plt.ylabel(\"Liczba rowerzystów\")\n",
        "plt.title(\"Wielicka\")"
      ]
    },
    {
      "cell_type": "markdown",
      "id": "4de69ccd",
      "metadata": {},
      "source": [
        "# Kopernika"
      ]
    },
    {
      "cell_type": "code",
      "execution_count": 5,
      "id": "3d1389b1",
      "metadata": {},
      "outputs": [
        {
          "data": {
            "text/plain": [
              "Text(0.5, 1.0, 'Kopernika')"
            ]
          },
          "execution_count": 5,
          "metadata": {},
          "output_type": "execute_result"
        },
        {
          "data": {
            "image/png": "[encoded data removed]",
            "text/plain": [
              "<Figure size 432x288 with 1 Axes>"
            ]
          },
          "metadata": {
            "needs_background": "light"
          },
          "output_type": "display_data"
        }
      ],
      "source": [
        "plt.scatter(dates, kop)\n",
        "plt.xlabel(\"Data\")\n",
        "plt.ylabel(\"Liczba rowerzystów\")\n",
        "plt.title(\"Kopernika\")"
      ]
    },
    {
      "cell_type": "markdown",
      "id": "e77e3f58",
      "metadata": {},
      "source": [
        "# Wykres obu"
      ]
    },
    {
      "cell_type": "code",
      "execution_count": 6,
      "id": "e51b8f47",
      "metadata": {},
      "outputs": [
        {
          "data": {
            "text/plain": [
              "<seaborn.axisgrid.JointGrid at 0x278a1454610>"
            ]
          },
          "execution_count": 6,
          "metadata": {},
          "output_type": "execute_result"
        },
        {
          "data": {
            "image/png": "[encoded data removed]",
            "text/plain": [
              "<Figure size 432x432 with 3 Axes>"
            ]
          },
          "metadata": {
            "needs_background": "light"
          },
          "output_type": "display_data"
        }
      ],
      "source": [
        "# wszysktie\n",
        "sns.jointplot(data=df, x=\"Wielicka\", y=\"Kopernika\", kind='hist')"
      ]
    },
    {
      "cell_type": "markdown",
      "id": "3698fba5",
      "metadata": {},
      "source": [
        "# Maksymalna liczba rowerzystów Kopernika"
      ]
    },
    {
      "cell_type": "markdown",
      "id": "d8328c43-41d2-42a8-9679-75641bd1615c",
      "metadata": {
        "id": "d8328c43-41d2-42a8-9679-75641bd1615c"
      },
      "source": [
        "# Zadanie 2\n",
        "\n",
        "Modelowanie liczby rowerzystów z użyciem regresji liniowej.\n",
        "\n",
        "**Wejście:** liczba rowerzystów na \"innych ulicach\"\n",
        "\n",
        "**Wyjście:** liczba rowerzystów na wybranej ulicy"
      ]
    },
    {
      "cell_type": "markdown",
      "id": "9bce6dc2-4d5e-408c-9ae2-acd9a12ae7c2",
      "metadata": {
        "id": "9bce6dc2-4d5e-408c-9ae2-acd9a12ae7c2"
      },
      "source": [
        "**Proszę:**\n",
        "\n",
        "* wydzielić zbiór treningowy ```df_train```: zliczenia dla okresu od **2019.01.01** do **2019.12.31**\n",
        "* wydzielić zbiór testowy, ```df_test```: zliczenia dla okresu od **2020.01.01** do **2022.10.31**"
      ]
    },
    {
      "cell_type": "code",
      "execution_count": 7,
      "id": "9d422668-4a45-49c5-8262-24212b8f0a1a",
      "metadata": {
        "id": "9d422668-4a45-49c5-8262-24212b8f0a1a"
      },
      "outputs": [
        {
          "name": "stdout",
          "output_type": "stream",
          "text": [
            "           Data  Armii Krajowej  Bora-Komorowskiego  Bulwary Dworzec  \\\n",
            "775  2019-01-02             0.0               103.0      202     264   \n",
            "776  2019-01-03             0.0               106.0      277     286   \n",
            "777  2019-01-04             0.0               119.0      229     273   \n",
            "778  2019-01-05             0.0                22.0       36      59   \n",
            "779  2019-01-06             0.0                41.0       37      42   \n",
            "...         ...             ...                 ...      ...     ...   \n",
            "1133 2019-12-26             0.0                65.0      143      98   \n",
            "1134 2019-12-27             0.0               130.0      196     233   \n",
            "1135 2019-12-28             0.0                71.0      147     147   \n",
            "1136 2019-12-29             0.0                66.0      165     143   \n",
            "1137 2019-12-30             0.0               192.0      415     374   \n",
            "\n",
            "      Grzegórzecka  Kamieńskiego  Klimeckiego  Kopernika  Kotlarska  ...  \\\n",
            "775            0.0           0.0        204.0      443.0        357  ...   \n",
            "776            0.0           0.0        254.0      496.0        426  ...   \n",
            "777            0.0           0.0        201.0      515.0        365  ...   \n",
            "778            0.0           0.0         48.0      136.0         75  ...   \n",
            "779            0.0           0.0         32.0      113.0         81  ...   \n",
            "...            ...           ...          ...        ...        ...  ...   \n",
            "1133           0.0           0.0         60.0      171.0        150  ...   \n",
            "1134           0.0           0.0        175.0      402.0        361  ...   \n",
            "1135           0.0           0.0        136.0      241.0        236  ...   \n",
            "1136           0.0           0.0        121.0      284.0        237  ...   \n",
            "1137           0.0           0.0        341.0      693.0        635  ...   \n",
            "\n",
            "      Smoleńsk  Tyniecka  Wadowicka  Wielicka  Średnia temp.  Min. temp.  \\\n",
            "775      225.0     184.0        205       185            0.0        -2.0   \n",
            "776      252.0     178.0        260       237           -4.0        -6.0   \n",
            "777      256.0     149.0        237       220           -5.0        -7.0   \n",
            "778       96.0      53.0          9        55           -1.0        -4.0   \n",
            "779       95.0      58.0         23        40           -6.0        -9.0   \n",
            "...        ...       ...        ...       ...            ...         ...   \n",
            "1133      75.0     133.0         97        72            2.0         0.0   \n",
            "1134     214.0     113.0        164       228            2.0         0.0   \n",
            "1135     158.0      95.0        150        90           -1.0        -2.0   \n",
            "1136     127.0     137.0        119       131           -2.0        -4.0   \n",
            "1137     331.0     233.0        322       399           -1.0        -5.0   \n",
            "\n",
            "      Maks. temp.  Odczuwalna temp.  Opady (mm)  Wiatr  \n",
            "775           2.0              -6.0         7.0   26.0  \n",
            "776          -1.0              -9.0         6.0   22.0  \n",
            "777          -3.0             -10.0         0.0   15.0  \n",
            "778           2.0              -5.0         5.0   17.0  \n",
            "779          -2.0             -10.0         2.0   13.0  \n",
            "...           ...               ...         ...    ...  \n",
            "1133          3.0              -1.0         7.0   14.0  \n",
            "1134          3.0              -3.0         2.0   14.0  \n",
            "1135          0.0              -6.0         1.0   17.0  \n",
            "1136         -1.0              -5.0         1.0    8.0  \n",
            "1137          3.0              -3.0         0.0    9.0  \n",
            "\n",
            "[363 rows x 24 columns]\n",
            "           Data  Armii Krajowej  Bora-Komorowskiego  Bulwary Dworzec  \\\n",
            "1140 2020-01-02             0.0               257.0      528     457   \n",
            "1141 2020-01-03             0.0               242.0      506     444   \n",
            "1142 2020-01-04             0.0               132.0      213     169   \n",
            "1143 2020-01-05             0.0                81.0      293     152   \n",
            "1144 2020-01-06             0.0               126.0      297     148   \n",
            "...         ...             ...                 ...      ...     ...   \n",
            "1438 2020-10-26             0.0               849.0     1720    1240   \n",
            "1439 2020-10-27             0.0               964.0     2100    1327   \n",
            "1440 2020-10-28             0.0               943.0     2077    1470   \n",
            "1441 2020-10-29             0.0               598.0      998    1017   \n",
            "1442 2020-10-30             0.0               502.0      801     869   \n",
            "\n",
            "      Grzegórzecka  Kamieńskiego  Klimeckiego  Kopernika  Kotlarska  ...  \\\n",
            "1140           0.0           0.0        394.0      792.0        795  ...   \n",
            "1141           0.0           0.0        418.0      779.0        779  ...   \n",
            "1142           0.0           0.0        194.0      313.0        273  ...   \n",
            "1143           0.0           0.0        163.0      309.0        258  ...   \n",
            "1144           0.0           0.0        151.0      369.0        351  ...   \n",
            "...            ...           ...          ...        ...        ...  ...   \n",
            "1438           0.0           0.0       1127.0     2311.0       1991  ...   \n",
            "1439           0.0           0.0       1265.0     2406.0       2139  ...   \n",
            "1440           0.0           0.0       1340.0     3095.0       2221  ...   \n",
            "1441           0.0           0.0        845.0     1728.0       1540  ...   \n",
            "1442           0.0           0.0        651.0     1451.0       1288  ...   \n",
            "\n",
            "      Smoleńsk  Tyniecka  Wadowicka  Wielicka  Średnia temp.  Min. temp.  \\\n",
            "1140     365.0     285.0        423       419            2.0        -1.0   \n",
            "1141     394.0     278.0        435       477            1.0        -1.0   \n",
            "1142     202.0     176.0        179       153            1.5         0.0   \n",
            "1143     168.0     230.0        125       136           -0.5        -2.0   \n",
            "1144     201.0     291.0        149       165           -1.0        -3.0   \n",
            "...        ...       ...        ...       ...            ...         ...   \n",
            "1438     871.0    1283.0       1065      1221           13.0         9.0   \n",
            "1439     916.0    1689.0       1215      1307           15.0        11.0   \n",
            "1440    1218.0    1530.0       1204      1447           12.5         9.0   \n",
            "1441     633.0     633.0        862       938           10.5         8.0   \n",
            "1442     600.0     671.0        705       759            8.0         5.0   \n",
            "\n",
            "      Maks. temp.  Odczuwalna temp.  Opady (mm)  Wiatr  \n",
            "1140          5.0               0.0         0.0    9.0  \n",
            "1141          3.0              -1.0         0.0   10.0  \n",
            "1142          3.0              -2.0         1.6   25.0  \n",
            "1143          1.0              -5.0         0.8   19.0  \n",
            "1144          1.0              -3.0         0.0    7.0  \n",
            "...           ...               ...         ...    ...  \n",
            "1438         17.0              12.0         0.0    6.0  \n",
            "1439         19.0              14.0         0.0    7.0  \n",
            "1440         16.0              12.0         0.0    5.0  \n",
            "1441         13.0               9.0         0.7   14.0  \n",
            "1442         11.0               6.0         6.2   12.0  \n",
            "\n",
            "[303 rows x 24 columns]\n"
          ]
        }
      ],
      "source": [
        "df_train = df[df['Data'] > '2019-01-01']\n",
        "df_train = df_train[df_train['Data'] < '2019-12-31']\n",
        "\n",
        "df_test = df[df['Data'] > '2020-01-01']\n",
        "df_test = df_test[df_test['Data'] < '2020-10-31']\n",
        "\n",
        "print(df_train)\n",
        "print(df_test)"
      ]
    },
    {
      "cell_type": "markdown",
      "id": "0a44dd45-c14a-45fa-96ef-90380fe92cdf",
      "metadata": {
        "id": "0a44dd45-c14a-45fa-96ef-90380fe92cdf",
        "tags": []
      },
      "source": [
        "**Proszę:**\n",
        "\n",
        "* znaleźć parametry regresji liniowej z użyciem algorytmu zbiorczego, dla modelu który przewiduje liczbę rowerzystów na ulicy **Wielickiej** na podstawie zliczeń na ulicach:\n",
        "\n",
        "```Python\n",
        "    ['Bora-Komorowskiego',\n",
        "     'Klimeckiego', 'Kopernika', 'Kotlarska',\n",
        "     'Mogilska', 'Monte Cassino', 'Nowohucka', 'Smoleńsk',\n",
        "     'Tyniecka', 'Wadowicka'] \n",
        "```\n",
        "\n",
        "* zliczenia rowerzystów wchodzące do modelu proszę znormalizować do jedynki: ```x/x.max()```\n",
        "* wypisać na ekran średnią i odchylenie standardowe względnej różnicy rzeczywistej i obliczonej liczby rowerzystów: ```(y-y_pred)/y``` dla zbiorów testowego\n",
        "  i treningowego"
      ]
    },
    {
      "cell_type": "code",
      "execution_count": 8,
      "id": "c31fe987-3752-451c-a367-cb83713da9db",
      "metadata": {
        "id": "c31fe987-3752-451c-a367-cb83713da9db"
      },
      "outputs": [
        {
          "name": "stdout",
          "output_type": "stream",
          "text": [
            "[42.58050613 53.13471049 57.5233533  57.49213133 59.16630638 56.89368057\n",
            " 52.61385538 60.7456656  28.77686131 42.32463505]\n",
            "Średnia 189.60415443468744 std 0.02818446720920079\n",
            "[64.53632474 57.26740235 66.64394203 65.09530864 67.11771336 66.4698489\n",
            " 60.99539818 72.78067708 38.33097932 42.79632252]\n",
            "Średnia 235.0052592305401 std 0.02117599466875861\n",
            "CPU times: total: 0 ns\n",
            "Wall time: 19.1 ms\n"
          ]
        }
      ],
      "source": [
        "%%time\n",
        "\n",
        "# Trening\n",
        "\n",
        "y = df_train[\"Wielicka\"]\n",
        "x = df_train[['Bora-Komorowskiego',\n",
        "     'Klimeckiego', 'Kopernika', 'Kotlarska',\n",
        "     'Mogilska', 'Monte Cassino', 'Nowohucka', 'Smoleńsk',\n",
        "     'Tyniecka', 'Wadowicka']]\n",
        "\n",
        "x = x/x.max()\n",
        "\n",
        "def iterative_batch_gradient(x, y, init_theta, alpha, nIter):\n",
        "    \n",
        "    # print(len(x.columns))\n",
        "    # x_expanded = np.column_stack((np.ones(x.shape[0]), x))\n",
        "\n",
        "    x = np.array(x)\n",
        "    theta = init_theta\n",
        "    theta_est = np.copy(theta)\n",
        "    theta_est = np.reshape(theta_est, (-1, 10))\n",
        "    # theta_est = np.reshape(theta_est, (-1, 2))\n",
        "\n",
        "    batchSize = len(x)\n",
        "    for iteration in range(nIter):\n",
        "        delta = np.sum(theta*x, axis=1)-y\n",
        "        delta = np.array(delta)\n",
        "        delta = np.reshape(delta, (batchSize, 1))\n",
        "        bracket = np.mean(delta * x, axis=0)\n",
        "        theta  = theta - alpha * bracket\n",
        "\n",
        "        theta_est = np.append(theta_est, theta.reshape((1, 10)), axis=0)\n",
        "        # theta_est = np.append(theta_est, theta.reshape((5, 2)), axis=0)   bezposrednio z przykladu na zajeciach dzialajace\n",
        "\n",
        "    return theta_est   \n",
        "\n",
        "nTheta = 10\n",
        "theta = np.zeros(nTheta)\n",
        "theta_est = iterative_batch_gradient(x, y, init_theta=theta, alpha=0.01, nIter=11)    \n",
        "print(theta_est[-1])\n",
        "y_pred_train = np.sum(theta_est[-1]*x, axis=1)\n",
        "std = (y-y_pred_train)/y\n",
        "std = np.std(std)\n",
        "\n",
        "print(\"Średnia\", y_pred_train.mean(), \"std\", str(std))\n",
        "\n",
        "y_test = df_test[\"Wielicka\"]\n",
        "x_test = df_test[['Bora-Komorowskiego',\n",
        "     'Klimeckiego', 'Kopernika', 'Kotlarska',\n",
        "     'Mogilska', 'Monte Cassino', 'Nowohucka', 'Smoleńsk',\n",
        "     'Tyniecka', 'Wadowicka']]\n",
        "\n",
        "x_test = x_test/x_test.max()\n",
        "theta_est_test = iterative_batch_gradient(x_test, y_test, init_theta=theta, alpha=0.01, nIter=11)\n",
        "print(theta_est_test[-1])\n",
        "\n",
        "y_pred_test = np.sum(theta_est_test[-1]*x_test, axis=1)\n",
        "std_test = (y_test-y_pred_test)/y_test\n",
        "std_test = np.std(std_test)\n",
        "\n",
        "print(\"Średnia\", y_pred_test.mean(), \"std\", str(std_test))"
      ]
    },
    {
      "cell_type": "markdown",
      "id": "bc1481e9-efb0-401b-9d9e-c00be714df5c",
      "metadata": {
        "id": "bc1481e9-efb0-401b-9d9e-c00be714df5c"
      },
      "source": [
        "# Zadanie 3\n",
        "\n",
        "Modelowane klasyfikacji zimno/ciepło na podstawie zliczeń rowerzystów. "
      ]
    },
    {
      "cell_type": "markdown",
      "id": "ea06065d-d113-4606-93c5-565e6cb2bf98",
      "metadata": {
        "id": "ea06065d-d113-4606-93c5-565e6cb2bf98"
      },
      "source": [
        "**Proszę:**\n",
        "\n",
        "* do danych testowych dodać do danych kolumnę \"Zimno\" zawierającą informację czy było zimno: **Odczuwalna temp.<10 stopni**\n",
        "* użyć modelu regresji logistycznej do modelowania wartości kolumny \"Zimno\". Jako dane wejściowe proszę podać listę ulic z zadania 2 z normalizacją liczby rowerzystów do jedynki: **x/x.max()**\n",
        "* jako parametrów modelu proszę użyć następujących wartości:\n",
        "```Python\n",
        "[3.48358238, -2.01857476, -1.52305565, -0.29609745, -0.45887462, -0.39171707, -1.77006993, -2.43057184,  0.06524249, -3.50162108,  0.06548802]\n",
        "```\n",
        "* stworzyć macierz ```y_pred``` zawierającą odpowiedź modelu na pytanie \"Czy było zimno?\"\n",
        "* używając macierzy ```y_pred``` oraz prawdziwych wartości kolumny \"Zimno\"\n",
        "odpowiedzieć na pytania: \n",
        "    * **Jaki jest ułamek poprawnych odpowiedzi modelu?**\n",
        "    * **Jaki ułamek zimnych dni został poprawnie oznaczony jako zimny?** \n",
        "    \n",
        "\n",
        "**Wskazówka**: Proszę zignorować ewentualny komunikat typu \n",
        "```\n",
        "/tmp/ipykernel_235/2082985459.py:8: SettingWithCopyWarning: \n",
        "A value is trying to be set on a copy of a slice from a DataFrame.\n",
        "Try using .loc[row_indexer,col_indexer] = value instead\n",
        "```"
      ]
    },
    {
      "cell_type": "code",
      "execution_count": 9,
      "id": "0f015f27-bae8-44ce-90b3-8881e1bb9c19",
      "metadata": {
        "id": "0f015f27-bae8-44ce-90b3-8881e1bb9c19"
      },
      "outputs": [],
      "source": [
        "import scipy.optimize as so\n",
        "\n",
        "df_test[\"Zimno\"] = df_test[\"Odczuwalna temp.\"] < 10\n",
        "\n",
        "y = df_test[\"Wielicka\"]\n",
        "x = df_test[['Bora-Komorowskiego',\n",
        "     'Klimeckiego', 'Kopernika', 'Kotlarska',\n",
        "     'Mogilska', 'Monte Cassino', 'Nowohucka', 'Smoleńsk',\n",
        "     'Tyniecka', 'Wadowicka']]\n",
        "\n",
        "x = x/x.max()\n",
        "theta = np.array([3.48358238, -2.01857476, -1.52305565, -0.29609745, -0.45887462, \n",
        "               -0.39171707, -1.77006993, -2.43057184,  0.06524249, -3.50162108,  0.06548802])\n",
        "\n",
        "def logistic_func(theta, x):\n",
        "    # dodaj kolumne jedynek\n",
        "    x_expanded = np.column_stack((np.ones(x.shape[0]), x))\n",
        "    # policz argument funkcji\n",
        "    arg = np.sum(theta*x_expanded, axis=1)\n",
        "    # uzyj np.where żeby ograniczyc wartosci parmetru do [-18,18]\n",
        "#     arg = np.where(np.abs(arg) > 18, 18*np.sign(arg), arg)\n",
        "    return 1.0/(1+np.exp(-arg))\n",
        "\n",
        "def log_likelihood(theta, x, y, model):\n",
        "    # x_expanded = np.column_stack((np.ones(x.shape[0]), x))\n",
        "    tosum = y*np.log(model(theta, x))+(1-y)*np.log(1-model(theta, x))\n",
        "    result = np.sum(tosum, axis=0)\n",
        "\n",
        "    return result\n",
        "\n",
        "def negative_log_likelihood(theta, x, y, model):\n",
        "    return -log_likelihood(theta, x, y, model)\n",
        "\n",
        "\n",
        "def log_likelihood_derivative(theta, x, y, model):\n",
        "    # odpowiedź modelu na dane\n",
        "    # różnica odpowiedzi modelu i wartości prawdziwej\n",
        "    x_expanded = np.column_stack((np.ones(x.shape[0]), x))\n",
        "    # print(x_expanded)\n",
        "    # obliczenie pochodnej wysumowanej po wszyskich przykładach\n",
        "\n",
        "    delta = y - model(theta, x)\n",
        "    delta = np.array(delta)\n",
        "    delta = np.column_stack((delta, delta, delta, delta, delta, delta, delta, delta, delta, delta, delta))\n",
        "    tosum = delta*x_expanded    # tu jest problem\n",
        "    # print(tosum)\n",
        "    result = np.sum(tosum, axis=0)\n",
        "    #sprawdzenie poprawności rozmiaru wyniku\n",
        "    assert result.shape == theta.shape\n",
        "    return result\n",
        "\n",
        "def negative_log_likelihood_derivative(theta, x, y, model):\n",
        "    return -log_likelihood_derivative(theta, x, y, model)\n",
        "\n",
        "def classification(theta, x, model):\n",
        "    model_result = model(theta, x)\n",
        "    return model_result>0.5\n",
        "\n",
        "\n",
        "model = logistic_func\n",
        "y_pred = classification(theta, x, logistic_func)\n",
        "y_real = df_test['Zimno']\n",
        "\n",
        "# print(k)\n",
        "\n",
        "# print(colored(\"Model udzielił poprawnej odpowiedzi w\",\"blue\"),\"{:0.2f}%\".format(accuracy*100),colored(\"przykładów.\",\"blue\"))\n",
        "# print(colored(\"Model udzielił poprawnie oznaczył\",\"blue\"),\"{:0.2f}%\".format(tpr*100),colored(\"zimnych dni jako zimne.\",\"blue\"))"
      ]
    },
    {
      "cell_type": "code",
      "execution_count": null,
      "id": "900580b1-eade-45fd-84f5-c825380040d8",
      "metadata": {
        "id": "900580b1-eade-45fd-84f5-c825380040d8"
      },
      "outputs": [],
      "source": []
    }
  ],
  "metadata": {
    "colab": {
      "provenance": []
    },
    "kernelspec": {
      "display_name": "Python 3.9.12 ('spyder')",
      "language": "python",
      "name": "python3"
    },
    "language_info": {
      "codemirror_mode": {
        "name": "ipython",
        "version": 3
      },
      "file_extension": ".py",
      "mimetype": "text/x-python",
      "name": "python",
      "nbconvert_exporter": "python",
      "pygments_lexer": "ipython3",
      "version": "3.9.12"
    },
    "vscode": {
      "interpreter": {
        "hash": "c288bdb25ca9e4767fa3e338ce28882ca341a961656781e13252079ed73b75e0"
      }
    }
  },
  "nbformat": 4,
  "nbformat_minor": 5
}
