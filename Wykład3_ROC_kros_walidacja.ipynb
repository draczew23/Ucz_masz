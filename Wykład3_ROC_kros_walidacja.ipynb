{
 "cells": [
  {
   "cell_type": "markdown",
   "metadata": {
    "id": "iI77unSJScmZ",
    "slideshow": {
     "slide_type": "slide"
    }
   },
   "source": [
    "# Powtórka\n",
    "* Jaką hipotezę wybraliśmy dla regresji logistycznej?"
   ]
  },
  {
   "cell_type": "markdown",
   "metadata": {
    "id": "GBWPehQXScma",
    "slideshow": {
     "slide_type": "fragment"
    }
   },
   "source": [
    "* Co to jest funkcja wiarygodności?"
   ]
  },
  {
   "cell_type": "markdown",
   "metadata": {
    "id": "EgxTNy8yScmc",
    "slideshow": {
     "slide_type": "fragment"
    }
   },
   "source": [
    "*  Na czym polega \"Zasada największej wiarygodności\"?"
   ]
  },
  {
   "cell_type": "markdown",
   "metadata": {
    "id": "pITiq79eScmc",
    "slideshow": {
     "slide_type": "fragment"
    }
   },
   "source": [
    "* Jak pokazać, że dany rozkład należy do rodziny rozkładów wykładniczych?\n"
   ]
  },
  {
   "cell_type": "markdown",
   "metadata": {
    "id": "Fwa2_KunScmd",
    "slideshow": {
     "slide_type": "fragment"
    }
   },
   "source": [
    "$\\qquad p(y;\\eta) = b(y) \\exp(\\eta^T T(y) - a(\\eta))$ "
   ]
  },
  {
   "cell_type": "markdown",
   "metadata": {
    "id": "LktQ6JfqScme",
    "slideshow": {
     "slide_type": "fragment"
    }
   },
   "source": [
    "* Jak znaleźć hipotezę dla danych modelowanych przez pewien znany rozkład w oparciu o GLM?"
   ]
  },
  {
   "cell_type": "markdown",
   "metadata": {
    "id": "GzvMaCm1Scmf",
    "slideshow": {
     "slide_type": "fragment"
    }
   },
   "source": [
    "* Jak wygląda funkcją softmax i gdzie jej używamy?"
   ]
  },
  {
   "cell_type": "markdown",
   "metadata": {
    "id": "0PIDoPCuScmg",
    "slideshow": {
     "slide_type": "fragment"
    }
   },
   "source": [
    "$\\qquad \\phi_i = \\frac{\\exp(\\eta_i)}{\\sum_{j=1}^k \\exp(\\eta_j)}$"
   ]
  },
  {
   "cell_type": "markdown",
   "metadata": {
    "id": "Ko3rA0WEScmi",
    "slideshow": {
     "slide_type": "slide"
    }
   },
   "source": [
    "# Ocena klasyfikatorów binarnych\n",
    "\n",
    "* Klasyfikatory binarne to te, których zadaniem jest przypisanie danemu przykładowi jednej z dwóch możliwych klas. \n",
    "* Przykładem takiego klasyfikatora jest znana już nam regresja logistyczna."
   ]
  },
  {
   "cell_type": "markdown",
   "metadata": {
    "id": "3CTSow64Scmj",
    "slideshow": {
     "slide_type": "fragment"
    }
   },
   "source": [
    "## Przykład klasyfikowania osób na zdrowe i chore na podstawie objawów. \n",
    "\n",
    "* Klasyfikator jako cechy przyjmuje na wejściu objawy (przedstawione w postaci numerycznej) i zwraca wynik klasyfikacji (testu)."
   ]
  },
  {
   "cell_type": "markdown",
   "metadata": {
    "id": "x-gUw9epScmk",
    "slideshow": {
     "slide_type": "fragment"
    }
   },
   "source": [
    "* Zakładamy, że mamy dane zawierające zarówno objawy $O$ jak i faktyczny stan osoby $W$ dla pewnej grupy osób \n",
    " * $W$ może mieć dwie wartości: \n",
    "   * zdrowy, \n",
    "   * chory. \n",
    "   "
   ]
  },
  {
   "cell_type": "markdown",
   "metadata": {
    "id": "s7vK6sAKScml",
    "slideshow": {
     "slide_type": "fragment"
    }
   },
   "source": [
    "* Mamy też pewien klasyfikator, który realizuje odwzorowanie:\n",
    "\n",
    "$\\qquad$ $H(O)  \\rightarrow K $\n",
    "\n",
    "* I tu podobnie, wynik klasyfikatora $K$ może przyjąć jedną z dwóch wartości: zdrowy lub chory. \n",
    "* W praktyce medycznej najczęściej mówimy, że pozytywny wynik testu wskazuje na chorobę."
   ]
  },
  {
   "cell_type": "markdown",
   "metadata": {
    "id": "8-YxEYkRScmm",
    "slideshow": {
     "slide_type": "fragment"
    }
   },
   "source": [
    "## Typy błędów\n",
    "Porównując wyniki $W$ i $K$ możemy mieć cztery sytuacje, \n",
    "\n",
    "<figure>   \n",
    "<img src= \"http://drive.google.com/uc?export=view&id=0BzwQ_Lscn8yDWlM3ekdfZTgwLVU\" width=1600>\n",
    " <figcaption>Tabela możliwych stanów dla klasyfikacji binarnej</figcaption>\n",
    "</figure>\n",
    "\n",
    "Anglojęzyczna nomenklatura często stosowana do opisu tych możliwości to:\n",
    "* TP: true positive,  hit\n",
    "* TN: true negative,  correct rejection\n",
    "* FP: false positive, false alarm, Type I error\n",
    "* FN: false negative, miss, Type II error"
   ]
  },
  {
   "cell_type": "markdown",
   "metadata": {
    "id": "HCISMZsGScmn",
    "slideshow": {
     "slide_type": "fragment"
    }
   },
   "source": [
    "## Miary\n",
    "* Jeśli mamy zbiór uczący o pewnej liczebności to dla każdego z elementów zbioru uczącego zachodzi jedna z powyżej opisanych możliwości. \n",
    "* Dla całego zbioru uczącego mamy konkretne liczby przypadków każdego typu. \n",
    "* Zliczenia tych przypadków są podstawą do stworzenia pewnych miar pozwalających na ocenę klasyfikatora. \n"
   ]
  },
  {
   "cell_type": "markdown",
   "metadata": {
    "id": "_6CdWwkdScmo",
    "slideshow": {
     "slide_type": "fragment"
    }
   },
   "source": [
    "### Czułość i specyficzność \n",
    "* czułość: Prawdopodobieństwo, że klasyfikacja będzie poprawna pod warunkiem, że przypadek jest pozytywny (ang. True Positive Rate, recall). \n",
    "\n",
    "$\\qquad$ $TPR = \\frac{TP}{ P} = \\frac{TP} { TP+FN}$\n",
    " > Prawdopodobieństwo, że test wykonany dla osoby chorej wykaże, że jest ona chora.\n",
    "\n",
    "* specyficzność: Prawdopodobieństwo, że klasyfikacja będzie poprawna, pod warunkiem, że przypadek jest negatywny (ang. False Positive Rate). \n",
    "$\\qquad$ $SPC = \\frac{TN}{  N} = \\frac{TN} { FP + TN} = 1 - FPR $\n",
    " > Prawdopodobieństwo, że dla osoby zdrowej test nie wykryje choroby."
   ]
  },
  {
   "cell_type": "markdown",
   "metadata": {
    "id": "oMolpsCGScmp",
    "slideshow": {
     "slide_type": "fragment"
    }
   },
   "source": [
    "### Fałszywe alarmy### \n",
    "* częstość fałszywych alarmów:  (False Positive Rate)\n",
    " > Jak dużej frakcji osób zdrowych test wyjdzie pozytywnie?\n",
    "$\\qquad$ $FPR = \\frac{FP}{ N} = \\frac{FP}{ FP + TN} = 1-SPC$\n",
    "* częstość fałszywych odkryć: (False Discovery Rate (FDR)): \n",
    " > Jak duża frakcja spośród pozytywnych wyników testu jest fałszywa?\n",
    "$\\qquad$ $FDR = \\frac{FP}{P'}=\\frac{FP}{ FP + TP}$"
   ]
  },
  {
   "cell_type": "markdown",
   "metadata": {
    "id": "R5ybbE_jScmr",
    "slideshow": {
     "slide_type": "fragment"
    }
   },
   "source": [
    "### Własności predykcyjne: Precyzja\n",
    "* precyzja pozytywna: (positive predictive value (PPV), precision). Odpowiada na pytanie: \n",
    " > Jeśli wynik testu jest pozytywny, jakie jest prawdopodobieństwo, że osoba badana jest chora? \n",
    "$\\qquad$ $PPV = \\frac{TP}{P'}=\\frac{TP}{ TP + FP}$\n",
    "\n",
    "* precyzja negatywna: (negative predictive value (NPV).) Odpowiada na pytanie: \n",
    " > Jeśli wynik testu jest negatywny, jakie jest prawdopodobieństwo, że osoba badana jest zdrowa?\n",
    "$\\qquad$ $NPV =\\frac{TN }{N'} =\\frac{TN }{ TN + FN}$"
   ]
  },
  {
   "cell_type": "markdown",
   "metadata": {
    "id": "tVV2A1C2Scms",
    "slideshow": {
     "slide_type": "fragment"
    }
   },
   "source": [
    "####  Efekt częstości występowania \n",
    "Częstość występowania ma znaczący wpływ na opisane powyżej wartości predykcyjne. \n",
    "* Przypuśćmy, że mamy test na pewną chorobę i charakteryzuje się on 99% czułością i 99% specyficznością. \n",
    "* Załóżmy, że testowanych jest 2000 osób  i częstość występowania choroby (w próbie) wynosi 50%, \n",
    "  * to znaczy 1000 z nich są chore a 1000 z nich są zdrowe. \n",
    "* W takiej sytuacji spodziewamy się  około 990 wyników TP i  990 TN oraz około 10 wyników FP i 10 FN. \n",
    "* Dodatnie (PPV = 99%) i ujemne (NPV = 99%) wartości predykcyjne są duże, więc możemy mieć wysokie zaufanie do wyniku. "
   ]
  },
  {
   "cell_type": "markdown",
   "metadata": {
    "id": "ZU2QrAKHScms",
    "slideshow": {
     "slide_type": "fragment"
    }
   },
   "source": [
    "* Jednakże, w przypadku gdy częstość występowania choroby będzie wynosiła  tylko 5%, \n",
    "  * czyli z 2000 osób tylko 100 jest chorych, \n",
    "* Prawdopodobnym rezultatem jest TP = 99, FN = 1, TN = 1881 i FP = 19. \n",
    "* Spośród 19 + 99 osób pozytywnych, tylko 99 naprawdę są chorzy\n",
    "  * to znaczy, że biorąc pod uwagę, że wynik badania pacjenta jest dodatni, jest tylko PPV =0.84 szans, że jest on naprawdę chory. \n",
    "  * Z drugiej strony biorąc pod uwagę ujemny wynik testu pacjenta, jest tylko 1 szansa na 1882, że pacjent cierpi na chorobę, mimo ujemnego wynik testu. Innymi słowy, NPV= 0,999 - prawdopodobieństwo, że przy negatywnym wyniku testu osoba badana jest zdrowa."
   ]
  },
  {
   "cell_type": "code",
   "execution_count": 1,
   "metadata": {
    "colab": {
     "base_uri": "https://localhost:8080/"
    },
    "executionInfo": {
     "elapsed": 5,
     "status": "ok",
     "timestamp": 1651911663900,
     "user": {
      "displayName": "Jarosław Żygierewicz",
      "userId": "18028375711392502071"
     },
     "user_tz": -120
    },
    "id": "Q8iEw-E-Scmu",
    "outputId": "08327f3e-dbf3-415c-bd28-6716986ae950",
    "slideshow": {
     "slide_type": "fragment"
    }
   },
   "outputs": [
    {
     "name": "stdout",
     "output_type": "stream",
     "text": [
      "ACC 0.75\n",
      "_________________________________________________________________\n",
      "Liczebność populacji: 276\n",
      "częstość występowania choroby: 0.25\n",
      "czułość: 0.90 \t specyficzność: 0.70\n",
      "_________________________________________________________________\n",
      "oczekiwana liczba osób \t\t| chorych:   69\t| zdrowych  207\n",
      "prawidłowo zdiagnozowanych \t| chorych:   62\t| zdrowych  145\n",
      "błędnie zakwalifikowanych jako\t| chorych:   62\t| zdrowych    7\n",
      "_________________________________________________________________\n",
      "precyzja pozytywna: 0.500 \t| precyzja negatywna 0.955\n"
     ]
    }
   ],
   "source": [
    "N_pop = 276\n",
    "TPR = 0.9 # czułość\n",
    "SPC = 0.7 # specyficzność\n",
    "f_wyst = 0.25 # częstość występowania\n",
    "P = N_pop * f_wyst # oczekiwana liczba osób chorych\n",
    "N = N_pop * (1-f_wyst) # oczekiwana liczba osób zdrowych\n",
    "TP = TPR * P # spodziewana liczba przypadków TP\n",
    "TN = SPC * N # spodziewana liczba przypadków TN\n",
    "FP = N - TN\n",
    "FN = P - TP\n",
    "PPV = TP/(TP + FP)\n",
    "NPV = TN/(TN + FN)\n",
    "print(\"ACC %.2f\"%((TP+TN)/(P+N)) )\n",
    "print(\"_________________________________________________________________\")\n",
    "print(\"Liczebność populacji: %d\"%(N_pop))\n",
    "print(\"częstość występowania choroby: %.2f\"%(f_wyst))\n",
    "print(\"czułość: %.2f \\t specyficzność: %.2f\"%(TPR,SPC))\n",
    "print(\"_________________________________________________________________\")\n",
    "print(\"oczekiwana liczba osób \\t\\t| chorych: %4.0f\\t| zdrowych %4.0f\"%(P,N) )\n",
    "print(\"prawidłowo zdiagnozowanych \\t| chorych: %4.0f\\t| zdrowych %4.0f\"%(TP,TN) )\n",
    "print(\"błędnie zakwalifikowanych jako\\t| chorych: %4.0f\\t| zdrowych %4.0f\"%(FP,FN))\n",
    "print(\"_________________________________________________________________\")\n",
    "print(\"precyzja pozytywna: %3.3f \\t| precyzja negatywna %.3f\"%(PPV,NPV))"
   ]
  },
  {
   "cell_type": "markdown",
   "metadata": {
    "id": "iQJRXoPEScm2",
    "slideshow": {
     "slide_type": "fragment"
    }
   },
   "source": [
    "### Miary sumaryczne\n",
    "Powyżej rozważane miary były sparowane, tzn. trzeba obie jednocześnie brać pod uwagę przy ocenie testu/klasyfikatora.  Poniżej są definicje popularnych miar sprowadzonych do jednej liczby, która w pewnym stopniu opisuje całościowo wyniki.\n",
    "\n",
    "* dokładność ( accuracy (ACC)): Prawdopodobieństwo prawidłowej klasyfikacji.\n",
    "\n",
    "$\\qquad$ $ACC = \\frac{TP + TN}{P + N}$\n",
    "\n",
    "* F1-score: średnia harmoniczna z precyzji i czułości:\n",
    "\n",
    "$\\qquad$ $F_1= 2 \\frac{PPV  \\cdot TPR}{PPV+TPR}= \\frac{2TP}{ 2TP+FP+FN}$\n",
    "Miara ta daje ocenę balansu między czułością a precyzją. Miara ta nie uwzględnia wyników prawdziwie negatywnych.\n",
    "\n",
    "* $F_\\beta$ jest uogólnieniem powyższej miary, które pozwala regulować za pomocą parametru $\\beta$ wagę jaką przykładamy do PPV:\n",
    "\n",
    "$\\qquad$ $F_\\beta = (1+ \\beta^2) \\frac{PPV \\cdot TPR}{PPV \\beta^2 +TPR} $\n",
    "\n",
    "* współczynnik korelacji Matthews ( Matthews correlation coefficient):\n",
    "\n",
    "$\\qquad$ $\n",
    "\\text{MCC} = \\frac{ TP \\cdot TN - FP \\cdot FN } {\\sqrt{ (TP + FP) ( TP + FN ) ( TN + FP ) ( TN + FN ) } }\n",
    "$\n",
    "\n",
    "  * Ten współczynnik uwzględnia wyniki zarówno prawdziwie jaki i fałszywie pozytywne i negatywne i jest na ogół uważany jako zrównoważona miara, która może być stosowana nawet wtedy, gdy klasy są bardzo różnej liczebności. \n",
    "  * MCC jest w istocie współczynnikiem korelacji pomiędzy obserwowanymi i przewidywanymi klasyfikacjami binarnymi; zwraca wartość od -1 do +1. \n",
    "    * Współczynnik +1 odpowiada idealnej klasyfikacji, \n",
    "    * 0 nie lepiej niż losowe przypisanie wyniku i \n",
    "    * -1 oznacza całkowitą niezgodę między klasyfikacją  i stanem faktycznym."
   ]
  },
  {
   "cell_type": "markdown",
   "metadata": {
    "id": "gg6IqlKiScm3",
    "slideshow": {
     "slide_type": "fragment"
    }
   },
   "source": [
    "##  Klasyfikator z progiem  \n",
    "Powyżej rozważaliśmy test/klasyfikator dający wynik binarny. Łatwo jest sobie wyobrazić, że klasyfikator ma ciągłe wyjście, które po porównaniu z pewną wartością progową daje dopiero ostateczny wynik. W takiej sytuacji warto mieć metodę pozwalającą na świadomy wybór optymalnego progu i na ocenę klasyfikatora, abstrahując od konkretnej wartości progu. Takich możliwości dostarcza analiza ROC.\n",
    "\n",
    "\n",
    "<figure>   \n",
    "<img src= \"http://drive.google.com/uc?export=view&id=0BzwQ_Lscn8yDcUJFanI1WEtCY1E\" width=1200>\n",
    " <figcaption>Rozkłady prawdopodobieństwa hipotezy dla dwóch klas i próg w klasyfikacji binarnej</figcaption>\n",
    "</figure>\n",
    "\n",
    "Prawdopodobieństwa podejmowania każdego rodzaju decyzji będą się zmieniały wraz z przesuwaniem progu podejmowania decyzji, czyli wartości hipotezy przy której zaliczamy przypadek do klasy 1."
   ]
  },
  {
   "cell_type": "markdown",
   "metadata": {
    "id": "hVQampDjScm5",
    "slideshow": {
     "slide_type": "fragment"
    }
   },
   "source": [
    "## Krzywe charakterystyki roboczej odbiorcy (ROC)\n",
    "**Krzywa ROC**: każdy punkt na tej krzywej otrzymywany jest dla ustalonej wartości progu i ma współrzędne (1−specyficzność, czułość).\n",
    "\n",
    "Demo ilustrujące powstawanie krzywej ROC: <!--HowReceiverOperatingCharacteristicCurvesWork.nb-->\n",
    "\n",
    "http://arogozhnikov.github.io/2015/10/05/roc-curve.html"
   ]
  },
  {
   "cell_type": "markdown",
   "metadata": {
    "id": "jjVJMuq8Scm5",
    "slideshow": {
     "slide_type": "fragment"
    }
   },
   "source": [
    "Krzywa ROC przydaje się do porównywania różnych klasyfikatorów oraz do wyboru punktu pracy (progu)\n",
    "\n",
    "AUC: Pole powierzchni pod krzywą ROC ma interpretację probabilistyczną: \n",
    " > jest to prawdopodobieństwo tego, że klasyfikator przydzieli wyższą rangę dla losowo wybranego przypadku pozytywnego niż negatywnego (zakładając, że wynik pozytywny ma wyższą rangę niż negatywny) \n",
    " \n",
    "W tym sensie jest ono blisko związane ze statystyką Wilcoxona https://pubs.rsna.org/doi/pdf/10.1148/radiology.143.1.7063747"
   ]
  },
  {
   "cell_type": "markdown",
   "metadata": {
    "id": "pJK8C58PScm6",
    "slideshow": {
     "slide_type": "slide"
    }
   },
   "source": [
    "# Walidacja krzyżowa (Cross-validation)\n",
    "## Generalizacja: O co tu chodzi?  \n",
    "<img src=\"Generalizacja.png\" alt=\"Drawing\" style=\"width: 400px;\"/>\n",
    "\n",
    "\n",
    "Na rysunku powyżej przedstawiona jest schematycznie koncepcja generalizacji. \n",
    "* Wyobraźmy sobie, że jest pewna przestrzeń P, która zawiera pary, np. liczb {((a,b), c)}. \n",
    "* W tym przykładzie jest to przestrzeń wszystkich odwzorowań $\\mathcal{R}^2 \\rightarrow \\mathcal{R}$. \n",
    "* Niektóre z tych par reprezentują pewną konkretną relację R: np. są to pary spełniające warunek $c=\\sqrt{a^2 +b^2}$. \n",
    "* Wyobraźmy sobie dalej, że mamy dane dwa skończone zestawy par, które tą relację spełniają, ale oczywiście nie są w stanie obejmować wszystkich możliwych par. \n",
    "* Jeden z nich oznaczymy U, a drugi T. Załóżmy, że mamy dwie wersje klasyfikatora, które uczymy na zbiorze U (mogą się one różnić architekturą, albo punktem startu procedury uczącej, albo ilością iteracji algorytmu uczącego itp.).\n",
    "* Po procesie uczenia klasyfikatory te mają mały i porównywalny błąd na zbiorze U, ale jedna z nich nauczyła się relacji wskazanej na rys. jako g1 a druga relacji g2. \n",
    "* Na podstawie rezultatów odtwarzania przykładów ze zbioru testowego mówimy, że klasyfikator drugi ma gorszą generalizację niż klasyfikator pierwszy."
   ]
  },
  {
   "cell_type": "markdown",
   "metadata": {
    "id": "lBAGsudCScm7",
    "slideshow": {
     "slide_type": "fragment"
    }
   },
   "source": [
    "## Porównywanie klasyfikatorów  na podstawie błędów generalizacji.\n",
    "Najlepiej byłoby mieć możliwie mały błąd generalizacji — jak go oszacować?\n",
    "Można zastosować następujące techniki:\n",
    "* wiele zbiorów testowych:  trzeba mieć dużo danych, żeby wystarczyło na rozsądny zbiór treningowy i kilka testowych"
   ]
  },
  {
   "cell_type": "markdown",
   "metadata": {
    "id": "OaQa4mg9Scm9",
    "slideshow": {
     "slide_type": "fragment"
    }
   },
   "source": [
    "* walidacja krzyżowa (_cross-validation_): najprostsza wersja (leave-one-out):\n",
    "  * wybierz przypadek do odrzucenia\n",
    "  * trenuj klasyfikator na wszystkich przypadkach oprócz tego jednego — na tym jednym oblicz błąd generalizacji\n",
    "  * powtarzaj to dla każdego przypadku <br>Zaleta — można efektywnie użyć całego zbioru danych do uczenia i testowania, <br>Cena — wielokrotne uczenie modelu\n",
    " * inna wersja - walidacja k-krotna (*k-fold*)\n",
    " \n",
    "### Wybieranie hyperparamertów\n",
    " (ilustracja pochcodzi ze strony https://scikit-learn.org):\n",
    " <img src=\"https://scikit-learn.org/stable/_images/grid_search_cross_validation.png\">\n",
    "  \n",
    "UWAGA NA PRZECIEKI DANYCH: powinniśmy zapewnić, że w trakcie uczenia na danym podzbiorze nie ma żadnego dostępu do informacji mogącej wpływać na jakość klasyfikacji, a pochodzącej  podzbioru testowego."
   ]
  },
  {
   "cell_type": "markdown",
   "metadata": {
    "id": "nJ8SC9PPlLk8",
    "slideshow": {
     "slide_type": "fragment"
    }
   },
   "source": [
    "## Przykład: porówniane modeli klasyfikujących irysy na podstawie róznych cech\n",
    "\n",
    "Przypomnijmy sobie jakie cechy są dostepne:\n",
    "\n",
    "<img src=\"https://www.pngkey.com/png/detail/82-826789_iris-iris-sepal-and-petal.png\" alt=\"Iris - Iris Sepal And Petal@pngkey.com\">"
   ]
  },
  {
   "cell_type": "markdown",
   "metadata": {
    "id": "rIjJ9PCplLk8",
    "slideshow": {
     "slide_type": "fragment"
    }
   },
   "source": [
    "I jak wyglądają rozkłady i zależności pomiędzy cechami"
   ]
  },
  {
   "cell_type": "code",
   "execution_count": 4,
   "metadata": {
    "id": "yz2Dx6ZZlLk9",
    "outputId": "332577ab-65c2-499b-9369-d25c5b6ec75d",
    "slideshow": {
     "slide_type": "fragment"
    }
   },
   "outputs": [
    {
     "data": {
      "image/png": "[encoded data removed]",
      "text/plain": [
       "<Figure size 1080x576 with 10 Axes>"
      ]
     },
     "metadata": {
      "needs_background": "light"
     },
     "output_type": "display_data"
    }
   ],
   "source": [
    "import matplotlib\n",
    "matplotlib.rcParams['figure.figsize']=(15,8)\n",
    "from sklearn.datasets import load_iris\n",
    "import matplotlib.pylab as plt\n",
    "\n",
    "iris = load_iris()\n",
    "\n",
    "color_map = {-1: (1, 1, 1), 0: (0, 0, .9), 1: (1, 0, 0), 2: (.5, .5, 0)}\n",
    "colors = [color_map[y] for y in iris.target]\n",
    "\n",
    "plt.figure(1)\n",
    "for i, name_i in enumerate(iris['feature_names']):\n",
    "    for j, name_j in enumerate(iris['feature_names']):\n",
    "        \n",
    "        if i>j:\n",
    "            plt.subplot(4,4,i*4+j+1) # i numeruje wiersze, j kolumny\n",
    "            plt.scatter(iris.data[:,j],iris.data[:,i],c = colors)\n",
    "            \n",
    "        elif i==j:\n",
    "            plt.subplot(4,4,i*4+j+1) # i numeruje wiersze, j kolumny\n",
    "            for k in range(3):\n",
    "                plt.hist(iris.data[iris.target==k,j],color=color_map[k],alpha=0.3)\n",
    "        if j ==0:\n",
    "            plt.ylabel(name_i)\n",
    "        if i ==3:\n",
    "            plt.xlabel(name_j)\n",
    "# plt.savefig(\"irys.pdf\")\n",
    "plt.show()"
   ]
  },
  {
   "cell_type": "markdown",
   "metadata": {
    "id": "RbZVj6T8lLk-",
    "slideshow": {
     "slide_type": "fragment"
    }
   },
   "source": [
    "Dzielimy dane na treningowe i testowe:"
   ]
  },
  {
   "cell_type": "code",
   "execution_count": 5,
   "metadata": {
    "id": "9wPOHa9slLk_",
    "outputId": "cef97ffd-0be4-483d-d9f7-6af5bf3833de",
    "slideshow": {
     "slide_type": "fragment"
    }
   },
   "outputs": [
    {
     "name": "stdout",
     "output_type": "stream",
     "text": [
      "(150, 4) (150,)\n",
      "-----\n",
      "(90, 4) (90,)\n",
      "(60, 4) (60,)\n"
     ]
    }
   ],
   "source": [
    "from sklearn.linear_model import LogisticRegression\n",
    "clf = LogisticRegression( multi_class='multinomial', solver ='lbfgs', max_iter= 1e4)    # klasyfikator\n",
    "\n",
    "from sklearn.model_selection import train_test_split    # narzedze do dzielenia danych na czeęści\n",
    "\n",
    "X = iris.data\n",
    "Y = iris.target\n",
    "\n",
    "X_train, X_test, y_train, y_test = train_test_split( X, Y, test_size=0.4, random_state=1)\n",
    "print(X.shape, Y.shape)\n",
    "print('-----')\n",
    "print(X_train.shape, y_train.shape)\n",
    "print(X_test.shape, y_test.shape)"
   ]
  },
  {
   "cell_type": "markdown",
   "metadata": {
    "id": "2juTHX98lLlA",
    "slideshow": {
     "slide_type": "fragment"
    }
   },
   "source": [
    "Importujemy narzędzie do walidacji krzyżowej z sklearn"
   ]
  },
  {
   "cell_type": "code",
   "execution_count": 6,
   "metadata": {
    "id": "E10zb2v9lLlB",
    "slideshow": {
     "slide_type": "fragment"
    }
   },
   "outputs": [],
   "source": [
    "from sklearn.model_selection import cross_val_score"
   ]
  },
  {
   "cell_type": "markdown",
   "metadata": {
    "id": "rW9L4seQlLlD",
    "slideshow": {
     "slide_type": "fragment"
    }
   },
   "source": [
    "Wybieramy różne podzbiory cech i wykonujemy na nich trening z walidacją krzyżową:"
   ]
  },
  {
   "cell_type": "code",
   "execution_count": 7,
   "metadata": {
    "id": "LILzA2lKlLlG",
    "outputId": "107b1390-af0a-4fa1-c355-bf575b9a9bef",
    "slideshow": {
     "slide_type": "fragment"
    }
   },
   "outputs": [
    {
     "name": "stdout",
     "output_type": "stream",
     "text": [
      "[0.77777778 0.88888889 0.83333333 0.77777778 0.83333333]\n",
      "---\n",
      "dokładność 0.82  +/- 0.04 \n"
     ]
    }
   ],
   "source": [
    "sel_1 = [0,1]\n",
    "X_train_sel =  X_train[:,sel_1]\n",
    "scores = cross_val_score(clf, X_train_sel, y_train, cv=5, scoring= 'accuracy') # other scoring metrics: https://scikit-learn.org/stable/modules/model_evaluation.html#scoring-parameter\n",
    "print(scores)\n",
    "print('---')\n",
    "print(\"dokładność %0.2f  +/- %0.2f \" % (scores.mean(), scores.std()))"
   ]
  },
  {
   "cell_type": "code",
   "execution_count": 9,
   "metadata": {
    "id": "Ue-K2iTUlLlH",
    "outputId": "e36509e2-08be-49cd-ce40-2d14fbbdee90",
    "slideshow": {
     "slide_type": "fragment"
    }
   },
   "outputs": [
    {
     "name": "stdout",
     "output_type": "stream",
     "text": [
      "[1.         0.94444444 0.94444444 0.94444444 0.94444444]\n",
      "---\n",
      "dokładność 0.96  +/- 0.02\n"
     ]
    }
   ],
   "source": [
    "sel_2 = [0,2]\n",
    "X_train_sel =  X_train[:,sel_2]\n",
    "scores = cross_val_score(clf, X_train_sel, y_train, cv=5, scoring= 'accuracy') # other scoring metrics: https://scikit-learn.org/stable/modules/model_evaluation.html#scoring-parameter\n",
    "print(scores)\n",
    "print('---')\n",
    "print(\"dokładność %0.2f  +/- %0.2f\" % (scores.mean(), scores.std()))"
   ]
  },
  {
   "cell_type": "code",
   "execution_count": 10,
   "metadata": {
    "id": "LX54oLQQlLlJ",
    "outputId": "baab1b44-f2b4-4749-8557-6ae2d40a2a45",
    "slideshow": {
     "slide_type": "fragment"
    }
   },
   "outputs": [
    {
     "name": "stdout",
     "output_type": "stream",
     "text": [
      "[1.         0.94444444 0.88888889 0.94444444 0.94444444]\n",
      "---\n",
      "dokładność 0.94  +/- 0.04\n"
     ]
    }
   ],
   "source": [
    "sel_3 = [2,3]\n",
    "X_train_sel =  X_train[:,sel_3]\n",
    "scores = cross_val_score(clf, X_train_sel, y_train, cv=5, scoring= 'accuracy') # other scoring metrics: https://scikit-learn.org/stable/modules/model_evaluation.html#scoring-parameter\n",
    "print(scores)\n",
    "print('---')\n",
    "print(\"dokładność %0.2f  +/- %0.2f\" % (scores.mean(), scores.std()))"
   ]
  },
  {
   "cell_type": "code",
   "execution_count": 11,
   "metadata": {
    "id": "FXuBCpsrlLlK",
    "outputId": "44a10a6e-c2bd-4eb2-c3d5-8bd7ac634cbb",
    "slideshow": {
     "slide_type": "fragment"
    }
   },
   "outputs": [
    {
     "name": "stdout",
     "output_type": "stream",
     "text": [
      "[0.94444444 1.         0.94444444 0.83333333 0.83333333]\n",
      "---\n",
      "dokładność 0.91  +/- 0.07\n"
     ]
    }
   ],
   "source": [
    "sel_4 = [0,3]\n",
    "X_train_sel =  X_train[:,sel_4]\n",
    "scores = cross_val_score(clf, X_train_sel, y_train, cv=5, scoring= 'accuracy') # other scoring metrics: https://scikit-learn.org/stable/modules/model_evaluation.html#scoring-parameter\n",
    "print(scores)\n",
    "print('---')\n",
    "print(\"dokładność %0.2f  +/- %0.2f\" % (scores.mean(), scores.std()))"
   ]
  },
  {
   "cell_type": "markdown",
   "metadata": {
    "id": "TegLIOIclLlK",
    "slideshow": {
     "slide_type": "fragment"
    }
   },
   "source": [
    "W tym przykładzie najwyższą dokładnosć dostaliśmy dla sel_2. Trenujemy zatem model na wszystkich danych treningowych z cechami wg. sel_2"
   ]
  },
  {
   "cell_type": "code",
   "execution_count": 12,
   "metadata": {
    "id": "Pl3GU4MOlLlM",
    "outputId": "a5e609d9-ff98-4788-866d-e906ec69863b",
    "slideshow": {
     "slide_type": "fragment"
    }
   },
   "outputs": [
    {
     "data": {
      "text/html": [
       "<style>#sk-container-id-1 {color: black;background-color: white;}#sk-container-id-1 pre{padding: 0;}#sk-container-id-1 div.sk-toggleable {background-color: white;}#sk-container-id-1 label.sk-toggleable__label {cursor: pointer;display: block;width: 100%;margin-bottom: 0;padding: 0.3em;box-sizing: border-box;text-align: center;}#sk-container-id-1 label.sk-toggleable__label-arrow:before {content: \"▸\";float: left;margin-right: 0.25em;color: #696969;}#sk-container-id-1 label.sk-toggleable__label-arrow:hover:before {color: black;}#sk-container-id-1 div.sk-estimator:hover label.sk-toggleable__label-arrow:before {color: black;}#sk-container-id-1 div.sk-toggleable__content {max-height: 0;max-width: 0;overflow: hidden;text-align: left;background-color: #f0f8ff;}#sk-container-id-1 div.sk-toggleable__content pre {margin: 0.2em;color: black;border-radius: 0.25em;background-color: #f0f8ff;}#sk-container-id-1 input.sk-toggleable__control:checked~div.sk-toggleable__content {max-height: 200px;max-width: 100%;overflow: auto;}#sk-container-id-1 input.sk-toggleable__control:checked~label.sk-toggleable__label-arrow:before {content: \"▾\";}#sk-container-id-1 div.sk-estimator input.sk-toggleable__control:checked~label.sk-toggleable__label {background-color: #d4ebff;}#sk-container-id-1 div.sk-label input.sk-toggleable__control:checked~label.sk-toggleable__label {background-color: #d4ebff;}#sk-container-id-1 input.sk-hidden--visually {border: 0;clip: rect(1px 1px 1px 1px);clip: rect(1px, 1px, 1px, 1px);height: 1px;margin: -1px;overflow: hidden;padding: 0;position: absolute;width: 1px;}#sk-container-id-1 div.sk-estimator {font-family: monospace;background-color: #f0f8ff;border: 1px dotted black;border-radius: 0.25em;box-sizing: border-box;margin-bottom: 0.5em;}#sk-container-id-1 div.sk-estimator:hover {background-color: #d4ebff;}#sk-container-id-1 div.sk-parallel-item::after {content: \"\";width: 100%;border-bottom: 1px solid gray;flex-grow: 1;}#sk-container-id-1 div.sk-label:hover label.sk-toggleable__label {background-color: #d4ebff;}#sk-container-id-1 div.sk-serial::before {content: \"\";position: absolute;border-left: 1px solid gray;box-sizing: border-box;top: 0;bottom: 0;left: 50%;z-index: 0;}#sk-container-id-1 div.sk-serial {display: flex;flex-direction: column;align-items: center;background-color: white;padding-right: 0.2em;padding-left: 0.2em;position: relative;}#sk-container-id-1 div.sk-item {position: relative;z-index: 1;}#sk-container-id-1 div.sk-parallel {display: flex;align-items: stretch;justify-content: center;background-color: white;position: relative;}#sk-container-id-1 div.sk-item::before, #sk-container-id-1 div.sk-parallel-item::before {content: \"\";position: absolute;border-left: 1px solid gray;box-sizing: border-box;top: 0;bottom: 0;left: 50%;z-index: -1;}#sk-container-id-1 div.sk-parallel-item {display: flex;flex-direction: column;z-index: 1;position: relative;background-color: white;}#sk-container-id-1 div.sk-parallel-item:first-child::after {align-self: flex-end;width: 50%;}#sk-container-id-1 div.sk-parallel-item:last-child::after {align-self: flex-start;width: 50%;}#sk-container-id-1 div.sk-parallel-item:only-child::after {width: 0;}#sk-container-id-1 div.sk-dashed-wrapped {border: 1px dashed gray;margin: 0 0.4em 0.5em 0.4em;box-sizing: border-box;padding-bottom: 0.4em;background-color: white;}#sk-container-id-1 div.sk-label label {font-family: monospace;font-weight: bold;display: inline-block;line-height: 1.2em;}#sk-container-id-1 div.sk-label-container {text-align: center;}#sk-container-id-1 div.sk-container {/* jupyter's `normalize.less` sets `[hidden] { display: none; }` but bootstrap.min.css set `[hidden] { display: none !important; }` so we also need the `!important` here to be able to override the default hidden behavior on the sphinx rendered scikit-learn.org. See: https://github.com/scikit-learn/scikit-learn/issues/21755 */display: inline-block !important;position: relative;}#sk-container-id-1 div.sk-text-repr-fallback {display: none;}</style><div id=\"sk-container-id-1\" class=\"sk-top-container\"><div class=\"sk-text-repr-fallback\"><pre>LogisticRegression(max_iter=10000.0, multi_class=&#x27;multinomial&#x27;)</pre><b>In a Jupyter environment, please rerun this cell to show the HTML representation or trust the notebook. <br />On GitHub, the HTML representation is unable to render, please try loading this page with nbviewer.org.</b></div><div class=\"sk-container\" hidden><div class=\"sk-item\"><div class=\"sk-estimator sk-toggleable\"><input class=\"sk-toggleable__control sk-hidden--visually\" id=\"sk-estimator-id-1\" type=\"checkbox\" checked><label for=\"sk-estimator-id-1\" class=\"sk-toggleable__label sk-toggleable__label-arrow\">LogisticRegression</label><div class=\"sk-toggleable__content\"><pre>LogisticRegression(max_iter=10000.0, multi_class=&#x27;multinomial&#x27;)</pre></div></div></div></div></div>"
      ],
      "text/plain": [
       "LogisticRegression(max_iter=10000.0, multi_class='multinomial')"
      ]
     },
     "execution_count": 12,
     "metadata": {},
     "output_type": "execute_result"
    }
   ],
   "source": [
    "sel = sel_2\n",
    "clf.fit(X_train[:,sel], y_train)"
   ]
  },
  {
   "cell_type": "code",
   "execution_count": 13,
   "metadata": {
    "id": "FJT5MNaAlLlM",
    "outputId": "582729bc-00a9-4b01-9fb3-48fb4af0664d",
    "slideshow": {
     "slide_type": "fragment"
    }
   },
   "outputs": [
    {
     "name": "stdout",
     "output_type": "stream",
     "text": [
      "Dokładność na zbiorze testowym:  0.9666666666666667\n",
      "Macierz pomyłek dla zbioru testowego:\n",
      "[[19  0  0]\n",
      " [ 0 20  1]\n",
      " [ 0  1 19]]\n"
     ]
    },
    {
     "data": {
      "image/png": "[encoded data removed]",
      "text/plain": [
       "<Figure size 1080x576 with 2 Axes>"
      ]
     },
     "metadata": {
      "needs_background": "light"
     },
     "output_type": "display_data"
    }
   ],
   "source": [
    "from sklearn.metrics import confusion_matrix\n",
    "from sklearn.metrics import accuracy_score #, ConfusionMatrixDisplay\n",
    "\n",
    "sel = sel_2\n",
    "y_pred = clf.predict(X_test[:, sel_2])\n",
    "\n",
    "acc = accuracy_score(y_test, y_pred)\n",
    "print('Dokładność na zbiorze testowym: ', acc)\n",
    "print(\"Macierz pomyłek dla zbioru testowego:\")\n",
    "\n",
    "cf_matrix = confusion_matrix(y_test, y_pred)\n",
    "print(cf_matrix)\n",
    "\n",
    "import seaborn as sns\n",
    "sns.heatmap(cf_matrix, annot=True,  cmap='Blues',xticklabels=iris.target_names,yticklabels=iris.target_names)\n",
    "plt.ylabel('Prawdziwa klasa')\n",
    "plt.xlabel('Przewidywana klasa' )\n",
    "plt.show()"
   ]
  },
  {
   "cell_type": "markdown",
   "metadata": {
    "id": "MfedBIVUlLlO",
    "slideshow": {
     "slide_type": "fragment"
    }
   },
   "source": [
    "# Problem niezbalansowanych klas:\n",
    "## Źródła:\n",
    "- złe próbkowanie: prawdziwy rozkład klas w całej populacji jest w przybliżeniu równomierny, ale w zbiorze uczącym mamy dysproporcje\n",
    "- rozkład klas w populacji faktycznie jest nierównomierny. Ten problem jest zwykle bardziej interesujący, w szczególności zwykle interesujące jest wykrywanie zjawisk rzadkich, np. diagnoza rzadko występującej choroby."
   ]
  },
  {
   "cell_type": "markdown",
   "metadata": {
    "id": "nzdAm2ivlLlP",
    "slideshow": {
     "slide_type": "fragment"
    }
   },
   "source": [
    "## Możliwe strategie radzenia sobie z tym problemem\n",
    "- zebrać więcej danych"
   ]
  },
  {
   "cell_type": "markdown",
   "metadata": {
    "id": "n1k02dYXlLlQ",
    "slideshow": {
     "slide_type": "fragment"
    }
   },
   "source": [
    "- oceniać modele za pomocą miar odpornych na niezrównoważenie klas:\n",
    " - macierz pomyłek: bardzo 'naocznie' pokazuje jak klasyfikator radzi sobie z poszczególnymi klasami\n",
    " - MCC\n",
    " - krzywa ROC - umożliwia dopasowanie na czym nam bardziej zależy: na czułości czy specyficzności\n",
    " "
   ]
  },
  {
   "cell_type": "markdown",
   "metadata": {
    "id": "ig9IVUPvlLlQ",
    "slideshow": {
     "slide_type": "fragment"
    }
   },
   "source": [
    "- repróbkowanie zbioru danych:\n",
    " - oversampling: dodanie przykładów z klasy mniej licznej poprzez repróbkowanie z powtórzeniami \n",
    " - undersamling: \n",
    "   - losowe pominięcie próbek z klasy bardziej licznej\n",
    "   - one-sided selection: https://sci2s.ugr.es/keel/pdf/algorithm/congreso/kubat97addressing.pdf, (przykładowa implementacja http://glemaitre.github.io/imbalanced-learn/auto_examples/under-sampling/plot_one_sided_selection.html); Pomysł polega na:\n",
    "     - usunięciu przypadków redundantnych z klasy liczniejszej\n",
    "     - usunięciu tych przykładów z klasy liczniejszej, które są albo bardzo blisko granicy decyzyjnej (bo niewielki szum mógłby spowodoawć ich przesunięcie) \n",
    "     - usunięciu przypadków z klasy liczniejszej podejrzanych o to, że mają nieoprawidłowo przypisaną klasę\n",
    "     - przypdki graniczne lub źle otagowane są wykrywane na podstawie tzw. połaczeń Tomka (ang. Tomek links)-> dla dwóch przykładów  $i$ i $j$ o przeciwnych etykietach obliczanmy odległość $\\delta(i,j)$. Jeśli nie istnieje przykład $k$ położony bliżej $i$ lub $j$, tzn. $\\delta(i,k) < \\delta(i,j)$ lub $\\delta(j,k) < \\delta(i,j)$ to para przykładów $(i,j)$ stanowi połaczenie Tomka i jest podejrzana o zaszumienie lub bycie blisko granicy decyzyjnej.\n",
    "     \n",
    "   \n",
    "   "
   ]
  },
  {
   "cell_type": "markdown",
   "metadata": {
    "id": "S5-ZUvcwlLlR",
    "slideshow": {
     "slide_type": "fragment"
    }
   },
   "source": [
    "- wygenerować syntetyczne dane, np. techniką SMOTE (Synthetic Minority Over-sampling Technique https://arxiv.org/pdf/1106.1813.pdf). Pewną zletą algorytmu SMOTE jest to, że działa on w przestrzeni cech, nie wymagając wiedzy dziedzinowej do generacji nowych próbek. Idea atworzenia nowych próbek, cytując za autorami \"Take the difference between the feature vector (sample) under consideration and its nearest neighbor. Multiply this difference by a random number between 0 and 1, and add it to the feature vector under consideration. This causes the selection of a random point along the line segment between two specific features.\" Jedna z implementacji: “UnbalancedDataset” module: https://github.com/scikit-learn-contrib/imbalanced-learn"
   ]
  },
  {
   "cell_type": "markdown",
   "metadata": {
    "id": "8htS-LP0lLlR",
    "slideshow": {
     "slide_type": "fragment"
    }
   },
   "source": [
    "- zmodyfikować funkcję kosztu, aby większa kara była przynawana za blędną klasyfikację mniej licznej klasy (algorytmy typu penalized-SVM https://scikit-learn.org/stable/auto_examples/svm/plot_separating_hyperplane_unbalanced.html )"
   ]
  },
  {
   "cell_type": "markdown",
   "metadata": {
    "id": "6NcBqrnAlLlR",
    "slideshow": {
     "slide_type": "fragment"
    }
   },
   "source": [
    "- wejść głębiej w problem i np.:\n",
    " - spróbować opisywać jedną kalsę, tą liczniejszą, a mało liczną traktować jako outliery\n",
    " - podzielić problem na klasyfikacje hierarchiczne (np. BCI - aktywny/nieaktywny, jeśli aktywny, to która klasa)\n",
    " \n",
    "----\n",
    "Dodatkowa lektura:\n",
    "\n",
    "A Gentle Introduction to Imbalanced Classification:\n",
    "\n",
    "https://machinelearningmastery.com/what-is-imbalanced-classification/\n",
    "\n",
    "8 Tactics to Combat Imbalanced Classes in Your Machine Learning Dataset\n",
    "\n",
    "https://machinelearningmastery.com/tactics-to-combat-imbalanced-classes-in-your-machine-learning-dataset/\n",
    "\n",
    "Krawczyk, B. Learning from imbalanced data: open challenges and future directions. Prog Artif Intell 5, 221–232 (2016). https://doi.org/10.1007/s13748-016-0094-0:\n",
    "\n",
    "https://link.springer.com/article/10.1007/s13748-016-0094-0"
   ]
  },
  {
   "cell_type": "markdown",
   "metadata": {
    "id": "WtG6WZ5JlLlT"
   },
   "source": []
  },
  {
   "cell_type": "code",
   "execution_count": null,
   "metadata": {
    "id": "uPdqMgcAlLlU"
   },
   "outputs": [],
   "source": []
  }
 ],
 "metadata": {
  "anaconda-cloud": {},
  "celltoolbar": "Slideshow",
  "colab": {
   "name": "Wykład3_ROC_kros_walidacja.ipynb",
   "provenance": []
  },
  "kernelspec": {
   "display_name": "Python 3.9.12 ('spyder')",
   "language": "python",
   "name": "python3"
  },
  "language_info": {
   "codemirror_mode": {
    "name": "ipython",
    "version": 3
   },
   "file_extension": ".py",
   "mimetype": "text/x-python",
   "name": "python",
   "nbconvert_exporter": "python",
   "pygments_lexer": "ipython3",
   "version": "3.9.12"
  },
  "livereveal": {
   "progress": true,
   "scroll": true,
   "start_slideshow_at": "selected",
   "theme": "serif",
   "transition": "fade",
   "width": 1600
  },
  "vscode": {
   "interpreter": {
    "hash": "c288bdb25ca9e4767fa3e338ce28882ca341a961656781e13252079ed73b75e0"
   }
  }
 },
 "nbformat": 4,
 "nbformat_minor": 1
}
