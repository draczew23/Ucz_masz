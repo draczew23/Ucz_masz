{
 "cells": [
  {
   "cell_type": "markdown",
   "metadata": {
    "id": "oMv_I3EiF6Rd"
   },
   "source": [
    "# Walidacja krzyżowa, krzywe ROC\n",
    "\n",
    "Teoria do tej części znajduje się tu:\n",
    "\n",
    "https://brain.fuw.edu.pl/edu/index.php/Uczenie_maszynowe_i_sztuczne_sieci_neuronowe/Wykład_Ocena_jakości_klasyfikacji"
   ]
  },
  {
   "cell_type": "markdown",
   "metadata": {
    "id": "qpPO3J51F6Rj"
   },
   "source": [
    "### Przygotowanie środowiska programistycznego"
   ]
  },
  {
   "cell_type": "code",
   "execution_count": 1,
   "metadata": {},
   "outputs": [],
   "source": [
    "import pandas as pd\n",
    "import matplotlib.pyplot as plt\n",
    "import seaborn as sns\n",
    "import numpy as np\n",
    "import scipy.optimize as so"
   ]
  },
  {
   "cell_type": "markdown",
   "metadata": {},
   "source": [
    "**Proszę:**\n",
    "* skopiować to tego notatnika funkcje do trenowania regresji logistycznej napisane na poprzednich zajęciach:\n",
    "\n",
    "```Python\n",
    "logistic_func(theta, x)\n",
    "log_likelihood(theta, x, y, model)\n",
    "negative_log_likelihood(theta, x, y, model)\n",
    "log_likelihood_derivative(theta, x, y, model)\n",
    "negative_log_likelihood_derivative(theta, x, y, model)\n",
    "classification(theta, x, model)\n",
    "```"
   ]
  },
  {
   "cell_type": "code",
   "execution_count": 2,
   "metadata": {},
   "outputs": [],
   "source": [
    "def logistic_func(theta, x):\n",
    "    # dodaj kolumne jedynek\n",
    "    x_expanded = np.column_stack((np.ones(x.shape[0]), x))\n",
    "    # policz argument funkcji\n",
    "    arg = np.sum(theta*x_expanded, axis=1)\n",
    "    # uzyj np.where żeby ograniczyc wartosci parmetru do [-18,18]\n",
    "    arg = np.where(np.abs(arg) > 18, 18*np.sign(arg), arg)\n",
    "    return 1.0/(1+np.exp(-arg))\n",
    "\n",
    "def log_likelihood(theta, x, y, model):\n",
    "    # x_expanded = np.column_stack((np.ones(x.shape[0]), x))\n",
    "    tosum = y*np.log(model(theta, x))+(1-y)*np.log(1-model(theta, x))\n",
    "    result = np.sum(tosum, axis=0)\n",
    "\n",
    "    return result\n",
    "\n",
    "def negative_log_likelihood(theta, x, y, model):\n",
    "    return -log_likelihood(theta, x, y, model)\n",
    "\n",
    "\n",
    "def log_likelihood_derivative(theta, x, y, model):\n",
    "    # odpowiedź modelu na dane\n",
    "    # różnica odpowiedzi modelu i wartości prawdziwej\n",
    "    x_expanded = np.column_stack((np.ones(x.shape[0]), x))\n",
    "    # print(x_expanded)\n",
    "    # obliczenie pochodnej wysumowanej po wszyskich przykładach\n",
    "\n",
    "    delta = y - model(theta, x)\n",
    "    delta = np.array(delta)\n",
    "    delta = np.column_stack((delta, delta, delta))\n",
    "    tosum = delta*x_expanded    # tu jest problem\n",
    "    # print(tosum)\n",
    "    result = np.sum(tosum, axis=0)\n",
    "    #sprawdzenie poprawności rozmiaru wyniku\n",
    "    assert result.shape == theta.shape\n",
    "    return result\n",
    "\n",
    "def negative_log_likelihood_derivative(theta, x, y, model):\n",
    "    return -log_likelihood_derivative(theta, x, y, model)\n",
    "\n",
    "def classification(theta, x, model):\n",
    "    model_result = model(theta, x)\n",
    "    return model_result>0.5"
   ]
  },
  {
   "cell_type": "markdown",
   "metadata": {},
   "source": [
    "Zestaw uczący pobieramy z repozytorium github i wczytujemy używając klasy Pandas DataFrame. Najpierw pobieramy repozytorium z github. Repozytorium zawiera kod do naszych ćwiczeń, oraz przykładowe dane w katalogu \"dane\".\n",
    "\n",
    "```\n",
    "!git clone https://github.com/akalinow/Uczenie_maszynowe -b 2022_2023\n",
    "!ln -s /content/uczenie-maszynowe-2021-22/dane/ dane\n",
    "```"
   ]
  },
  {
   "cell_type": "code",
   "execution_count": 3,
   "metadata": {},
   "outputs": [],
   "source": [
    "df = pd.read_csv(\"dane/reg_log_data.txt\", encoding='latin-1', sep=\",\", names=[\"matematyka\", \"biologia\", \"wynik\"])"
   ]
  },
  {
   "cell_type": "markdown",
   "metadata": {
    "id": "qzYhR3-IF6TI"
   },
   "source": [
    "### Zastosowanie w naszym przykładzie\n",
    "Przeprowadzimy kross-walidację typu $leave-one-out$:\n",
    "po kolei odłożymy po jednym przykładzie ze zbioru uczącego i na takim zredukownaym zbiorze nauczymy regresję, a następnie sprawdzimy \n",
    "działanie modelu na odłożonym przykładzie:\n",
    "\n",
    "* ze zbioru uczącego odrzucamy jeden przykład\n",
    "* na pozostałych przykładach \"trenujemy model\", czyli znajdujemy parametry $\\theta$\n",
    "* sprawdzamy działanie modelu na odrzuconym wcześniej przykładzie\n",
    "* procedurę powtarzamy dla wszystkich przykładów w zbiorze uczącym  \n",
    "\n",
    "\n",
    "**Proszę** napisać funckję ```leave_one_out_CV(df, theta, model)```\n",
    "\n",
    "która:\n",
    "* przyjmuje zestaw uczący w postaci obiektu DataFrame, początkowych parametrów $\\theta$, oraz model $model$\n",
    "* implementuje algorytm \"leave-one-out\" i tworzy listę wyników modelu dla każdego przykładu:\n",
    "\n",
    "```Python\n",
    "passed = np.append(passed, classification(theta_opt, df_left_out[[\"matematyka\",\"biologia\"]], model))\n",
    "```\n",
    "\n",
    "* dodaje do obiektu DataFrame kolumnę z wynikami modelu:\n",
    "\n",
    "```Python\n",
    "df[\"model\"] = passed \n",
    "```   \n",
    "\n",
    "* uruchomić funkcję na danych i wypisać zawartość zmodyfikowanego obiektu DataFrame. \n",
    "\n",
    "Oczekiwany wynik to:\n",
    "```\n",
    "    matematyka   biologia  wynik  model\n",
    "0    34.623660  78.024693      0    0.0\n",
    "1    30.286711  43.894998      0    0.0\n",
    "2    35.847409  72.902198      0    0.0\n",
    "3    60.182599  86.308552      1    1.0\n",
    "4    79.032736  75.344376      1    1.0\n",
    "..         ...        ...    ...    ...\n",
    "```"
   ]
  },
  {
   "cell_type": "code",
   "execution_count": 4,
   "metadata": {},
   "outputs": [
    {
     "name": "stdout",
     "output_type": "stream",
     "text": [
      "0\n",
      "1\n",
      "2\n",
      "3\n",
      "4\n",
      "5\n",
      "6\n",
      "7\n",
      "8\n",
      "9\n",
      "10\n",
      "11\n",
      "12\n",
      "13\n",
      "14\n",
      "15\n",
      "16\n",
      "17\n",
      "18\n",
      "19\n",
      "20\n",
      "21\n",
      "22\n",
      "23\n",
      "24\n",
      "25\n",
      "26\n",
      "27\n",
      "28\n",
      "29\n",
      "30\n",
      "31\n",
      "32\n",
      "33\n",
      "34\n",
      "35\n",
      "36\n",
      "37\n",
      "38\n",
      "39\n",
      "40\n",
      "41\n",
      "42\n",
      "43\n",
      "44\n",
      "45\n",
      "46\n",
      "47\n",
      "48\n",
      "49\n",
      "50\n",
      "51\n",
      "52\n",
      "53\n",
      "54\n",
      "55\n",
      "56\n",
      "57\n",
      "58\n",
      "59\n",
      "60\n",
      "61\n",
      "62\n",
      "63\n",
      "64\n",
      "65\n",
      "66\n",
      "67\n",
      "68\n",
      "69\n",
      "70\n",
      "71\n",
      "72\n",
      "73\n",
      "74\n",
      "75\n",
      "76\n",
      "77\n",
      "78\n",
      "79\n",
      "80\n",
      "81\n",
      "82\n",
      "83\n",
      "84\n",
      "85\n",
      "86\n",
      "87\n",
      "88\n",
      "89\n",
      "90\n",
      "91\n",
      "92\n",
      "93\n",
      "94\n",
      "95\n",
      "96\n",
      "97\n",
      "98\n",
      "99\n"
     ]
    }
   ],
   "source": [
    "for leave_out_index in df.index:\n",
    "    print(leave_out_index)"
   ]
  },
  {
   "cell_type": "code",
   "execution_count": 5,
   "metadata": {},
   "outputs": [
    {
     "name": "stdout",
     "output_type": "stream",
     "text": [
      "    matematyka   biologia  wynik  model\n",
      "0    34.623660  78.024693      0    0.0\n",
      "1    30.286711  43.894998      0    0.0\n",
      "2    35.847409  72.902198      0    0.0\n",
      "3    60.182599  86.308552      1    1.0\n",
      "4    79.032736  75.344376      1    1.0\n",
      "..         ...        ...    ...    ...\n",
      "95   83.489163  48.380286      1    1.0\n",
      "96   42.261701  87.103851      1    1.0\n",
      "97   99.315009  68.775409      1    1.0\n",
      "98   55.340018  64.931938      1    0.0\n",
      "99   74.775893  89.529813      1    1.0\n",
      "\n",
      "[100 rows x 4 columns]\n",
      "CPU times: total: 1.19 s\n",
      "Wall time: 2.17 s\n"
     ]
    }
   ],
   "source": [
    "%%time \n",
    "\n",
    "def leave_one_out_CV(df, theta0, model):\n",
    "    # macierz przechowująca wyniki dla danego modelu\n",
    "    passed = np.array([])\n",
    "    # kopia oryginalnych danych\n",
    "    df_with_model = df.copy()\n",
    "    \n",
    "    # pętla po wszystkich przykładach\n",
    "    for leave_out_index in df.index:\n",
    "        # 1. stworz dataframe bez jednego przykladu\n",
    "        df_filtered = df[df.index != leave_out_index]\n",
    "        # 2. znajdz optymalne parametry theta\n",
    "        x = df_filtered[['matematyka', 'biologia']]\n",
    "        y = df_filtered['wynik']\n",
    "        theta_opt = so.fmin_bfgs(f=negative_log_likelihood, fprime=negative_log_likelihood_derivative, x0=theta0, args=(x, y, model), disp=False)\n",
    "        # 3. stworz dataframe z odrzuconego (pojedynczego) przykladu\n",
    "        df_left_out = df[df.index == leave_out_index]\n",
    "        # 4. dodajemy wynik modelu do poprzednich\n",
    "        passed = np.append(passed, classification(theta_opt, df_left_out[[\"matematyka\",\"biologia\"]], model))\n",
    "    # dodajemy wyniki modelu do calego data frame\n",
    "    df_with_model[\"model\"] = passed\n",
    "    # zwracamy data frame powiekszony o kolumne z wynikami modelu\n",
    "    return df_with_model\n",
    "                        \n",
    "theta0 = np.array([0,0,0])\n",
    "model = logistic_func \n",
    "df_with_model = leave_one_out_CV(df, theta0, model)\n",
    "print(df_with_model)"
   ]
  },
  {
   "cell_type": "markdown",
   "metadata": {},
   "source": [
    "Zdefiniujmy następujące przypadki gdy nasz model się myli lub podaje poprawny wynik:\n",
    "\n",
    "* **\"True Positive\" (TP)**:  stan faktyczny jest pozytywny (y=1) i klasyfikator się nie myli (wynik = 1)\n",
    "* **\"True Negative\" (TN)**:  stan faktyczny jest negatywny (y=0) i klasyfikator się nie myli (wynik = 0) \n",
    "* **\"False Positive\" (FP)**: wynik fałszywie pozytywny (fałszywy alarm): stan faktyczny jest negatywny (y=0) ale klasyfikator się  myli (wynik = 1)\n",
    "* **\"False Netative\" (FN)**: przegapiony alarm: stan faktyczny jest pozytywny (y=1) i klasyfikator się myli (wynik = 0)\n",
    "\n",
    "**Proszę** napisać kod, który oblicza TP, TN, FP, FN. Dla naszego zbioru uczącego powinniśmy uzyskać:\n",
    "```\n",
    "TP:  55\n",
    "FP:  6\n",
    "TN:  34\n",
    "FN:  5\n",
    "```   \n",
    "\n",
    "**Wskazówka:** \n",
    "* proszę użyć metody ```df.shape[0]``` by zliczać liczbę wierszy w odpowiednio przefiltrowanym obiekcie DataFrame\n",
    "* proszę użyć warunkow logicznych aby wybrac odpowiednie dane i pola shape aby dostac liczbe wierszy"
   ]
  },
  {
   "cell_type": "code",
   "execution_count": 15,
   "metadata": {},
   "outputs": [
    {
     "name": "stdout",
     "output_type": "stream",
     "text": [
      "TP = 55\n",
      "FP = 6\n",
      "TN = 34\n",
      "FN = 5\n"
     ]
    }
   ],
   "source": [
    "tp = df_with_model[(df_with_model['model']==1)&(df_with_model['wynik']==1)].shape[0]\n",
    "fp = df_with_model[(df_with_model['model']==1)&(df_with_model['wynik']==0)].shape[0]\n",
    "tn = df_with_model[(df_with_model['model']==0)&(df_with_model['wynik']==0)].shape[0]\n",
    "fn = df_with_model[(df_with_model['model']==0)&(df_with_model['wynik']==1)].shape[0]\n",
    "\n",
    "print(\"TP = {}\\nFP = {}\\nTN = {}\\nFN = {}\".format(tp, fp, tn, fn))"
   ]
  },
  {
   "cell_type": "markdown",
   "metadata": {
    "id": "0UNsb51DF6TQ"
   },
   "source": [
    "## Krzywa ROC\n",
    "\n",
    "Aby wykreślić krzywą ROC należy przeprowadzić klasyfikację dla wielu możliwych wartości progu dla hipotezy, powyżej którego uznajemy przypadek za należący do klasy 1. W tym celu należy zmodyfikować funckję ```leave_one_out_CV(df, theta0, model)``` tak by zapisywała prawdopodobieństwo, a nie wynik działania funkcji ```classification```\n",
    "\n",
    "**Proszę:** \n",
    "* napisać funkcję ```leave_one_out_CV_with_prob(df, theta0, model)``` która zapisuje kolumnę z prawdopodobieństwem zamiast wynikiem klasyfikacji"
   ]
  },
  {
   "cell_type": "code",
   "execution_count": 17,
   "metadata": {},
   "outputs": [
    {
     "name": "stdout",
     "output_type": "stream",
     "text": [
      "    matematyka   biologia  wynik  model_prob\n",
      "0    34.623660  78.024693      0    0.096879\n",
      "1    30.286711  43.894998      0    0.000042\n",
      "2    35.847409  72.902198      0    0.045566\n",
      "3    60.182599  86.308552      1    0.990292\n",
      "4    79.032736  75.344376      1    0.998192\n",
      "..         ...        ...    ...         ...\n",
      "95   83.489163  48.380286      1    0.850268\n",
      "96   42.261701  87.103851      1    0.721421\n",
      "97   99.315009  68.775409      1    0.999897\n",
      "98   55.340018  64.931938      1    0.306822\n",
      "99   74.775893  89.529813      1    0.999751\n",
      "\n",
      "[100 rows x 4 columns]\n",
      "CPU times: total: 1.56 s\n",
      "Wall time: 1.97 s\n"
     ]
    }
   ],
   "source": [
    "%%time \n",
    "\n",
    "def leave_one_out_CV_with_prob(df, theta0, model):\n",
    "    # macierz przechowująca wartość prawdopodobieństwa\n",
    "    prob = np.array([])\n",
    "    # kopia oryginalnego zestawu danych\n",
    "    df_with_model = df.copy()\n",
    "    # petla po wszystkich przykladach\n",
    "    for leave_out_index in df.index:\n",
    "        # 1. stworz dataframe bez jednego przykladu\n",
    "        df_filtered = df[df.index != leave_out_index]\n",
    "        # 2. znajdz optymalne parametry theta\n",
    "        x = df_filtered[['matematyka', 'biologia']]\n",
    "        y = df_filtered['wynik']\n",
    "        theta_opt = so.fmin_bfgs(f=negative_log_likelihood, fprime=negative_log_likelihood_derivative, x0=theta0, args=(x, y, model), disp=False)\n",
    "        # 3. stworz dataframe z odrzuconego (pojedynczego) przykladu\n",
    "        df_left_out = df[df.index == leave_out_index]\n",
    "        # 4. dodajemy wynik modelu do poprzednich\n",
    "        prob = np.append(prob, model(theta_opt, df_left_out[[\"matematyka\",\"biologia\"]]))\n",
    "    # dodajemy wyniki modelu (prawdopodobienstwa) do calego DataFrame\n",
    "    df_with_model[\"model_prob\"] = prob\n",
    "    # zwracamy data frame powiekszony o kolumne z wynikami modelu (prawdopodobienstwami)\n",
    "    return df_with_model\n",
    "\n",
    "theta0 = np.array([0,0,0])\n",
    "model = logistic_func \n",
    "df_with_prob = leave_one_out_CV_with_prob(df, theta0, model)\n",
    "print(df_with_prob)"
   ]
  },
  {
   "cell_type": "markdown",
   "metadata": {},
   "source": [
    "**Proszę:**\n",
    "* narysować krzywą ROC oraz obliczyć pole pod nią (\"area unde ROC, AUC) dla naszego modelu\n",
    "\n",
    "\n",
    "**Wskazówka:** \n",
    "* prosze użyć funkcji z biblioteki ```sklearn```. Nazwę i dokumentację funckji można znaleźć wpisując w Google hasło \"scikit learn Receiver Operating Characteristic\""
   ]
  },
  {
   "cell_type": "markdown",
   "metadata": {},
   "source": [
    "### Dotąd jest praca domowa, zrobić reszte"
   ]
  },
  {
   "cell_type": "code",
   "execution_count": 36,
   "metadata": {},
   "outputs": [
    {
     "name": "stdout",
     "output_type": "stream",
     "text": [
      "0.96125\n"
     ]
    },
    {
     "data": {
      "image/png": "[encoded data removed]",
      "text/plain": [
       "<Figure size 432x288 with 1 Axes>"
      ]
     },
     "metadata": {
      "needs_background": "light"
     },
     "output_type": "display_data"
    },
    {
     "data": {
      "image/png": "[encoded data removed]",
      "text/plain": [
       "<Figure size 432x288 with 1 Axes>"
      ]
     },
     "metadata": {
      "needs_background": "light"
     },
     "output_type": "display_data"
    }
   ],
   "source": [
    "from sklearn.metrics import roc_curve, auc\n",
    "from sklearn.metrics import roc_auc_score\n",
    "\n",
    "from sklearn.metrics import RocCurveDisplay\n",
    "\n",
    "# zrobic na dwa sposoby, predictions i na from_estimator\n",
    "\n",
    "x = df[['matematyka', 'biologia']]\n",
    "y = df['wynik']\n",
    "\n",
    "y_true = df_with_prob['wynik']\n",
    "y_pred = df_with_prob['model_prob']\n",
    "\n",
    "# print(df_with_model)\n",
    "\n",
    "# RocCurveDisplay.from_estimator(classification, x, y)\n",
    "\n",
    "fpr, tpr, thresholds = roc_curve(y_true, y_pred)\n",
    "roc_auc = roc_auc_score(y_true, y_pred)\n",
    "\n",
    "print(roc_auc)\n",
    "\n",
    "plt.figure()\n",
    "lw = 2\n",
    "plt.plot(fpr, tpr, color='darkorange',lw=lw, label='ROC curve (area = %0.2f)' % roc_auc)\n",
    "# krzywa (diagonala) dla klasyfikatora losowo przypisującą kategorie -  najgorsze rozwiązanie\n",
    "RocCurveDisplay.from_predictions(y_true, y_pred)\n",
    "plt.plot([0, 1], [0, 1], color='navy', lw=lw, linestyle='--')\n",
    "##\n",
    "plt.xlim([0.0, 1.0])\n",
    "plt.ylim([0.0, 1.05])\n",
    "plt.xlabel('False Positive Rate')\n",
    "plt.ylabel('True Positive Rate')\n",
    "plt.title('Receiver operating characteristic for logistic regression')\n",
    "plt.legend(loc=\"lower right\")\n",
    "plt.show()"
   ]
  },
  {
   "cell_type": "markdown",
   "metadata": {},
   "source": [
    "## Modyfikacja modelu - wybór zmiennych wejściowych do modelu\n",
    "\n",
    "**Proszę:** \n",
    "\n",
    "wykonać trening regresji logistycznej dla modelu, który używa wyniku tylko z jednego egzaminu i narysować na jednym rysunku krzywe ROC dla trzech wariantów:\n",
    "* modelu używającego wyników z obu przedmiotów\n",
    "* modelu używającego tylko wyników z matematyki\n",
    "* modelu używającego tylko wyników z biologii\n",
    "\n",
    "Krok 1: \n",
    "\n",
    "**Proszę:**\n",
    "\n",
    "* przerobić funkcję ```leave_one_out_CV_with_prob``` tak by wykonywała obliczenia dla wszystkich trzech wariantów"
   ]
  },
  {
   "cell_type": "code",
   "execution_count": null,
   "metadata": {},
   "outputs": [],
   "source": [
    "%%time\n",
    "\n",
    "def leave_one_out_CV_many_models(df, theta0, model):\n",
    "    # macierz przechowująca prawdopodobieństwa dla modelu używającego wszystkich kolumn\n",
    "    prob = np.array([])\n",
    "    # macierz przechowująca prawdopodobieństwa dla modelu używającego tylko wyniki z matematyki\n",
    "    prob_math = np.array([])\n",
    "    # macierz przechowująca prawdopodobieństwa dla modelu używającego tylko wyniki z matematyki\n",
    "    prob_biol = np.array([])\n",
    "    # kopia oaryginalnych danych\n",
    "    df_with_model = df.copy()\n",
    "    \n",
    "    for leave_out_index in df.index:\n",
    "...\n",
    "    # dodajemy wyniki modelu (prawdopodobienstwa) do calego DataFrame\n",
    "    # i zwracamy DataFrame powiększone o kolumny z wynikami trzech modeli\n",
    "    df_with_model[\"model_prob\"] = prob\n",
    "    df_with_model[\"model_prob_matematyka\"] = prob_math\n",
    "    df_with_model[\"model_prob_biologia\"] = prob_biol\n",
    "    return df_with_model\n",
    "                        \n",
    "theta0 = np.array([0,0,0])\n",
    "model = logistic_func \n",
    "df_with_prob = leave_one_out_CV_many_models(df, theta0, model)\n",
    "print(df_with_prob)"
   ]
  },
  {
   "cell_type": "markdown",
   "metadata": {},
   "source": [
    "Krok 2:\n",
    "\n",
    "**Proszę:**\n",
    "\n",
    "* narysować na jednym rysunku krzywe ROC dla wszystkich trzech modeli"
   ]
  },
  {
   "cell_type": "code",
   "execution_count": null,
   "metadata": {},
   "outputs": [],
   "source": [
    "...\n",
    "plt.figure()\n",
    "lw = 2 #szerokosć linii - line width\n",
    "\n",
    "...\n",
    "\n",
    "plt.plot([0, 1], [0, 1], color='navy', lw=lw, linestyle='--')\n",
    "plt.xlim([0.0, 1.0])\n",
    "plt.ylim([0.0, 1.05])\n",
    "plt.xlabel('False Positive Rate')\n",
    "plt.ylabel('True Positive Rate')\n",
    "plt.title('Receiver operating characteristic for logistic regression')\n",
    "plt.legend(loc=\"lower right\")\n",
    "plt.show()"
   ]
  },
  {
   "cell_type": "markdown",
   "metadata": {},
   "source": [
    "# Zadanie domowe \n",
    "\n",
    "Zastosowanie regresji logistycznej do innego rodzaju danych\n",
    "\n",
    "**Proszę:**\n",
    "\n",
    "* narysować krzywą ROC dla modelu wytrenowanego na danych z pracy domowej z poprzednich ćwiczeń\n",
    "* napisać funkcję ```logistic_func_1(theta, x)``` która będzie działać podobnie do oryginalnej, ale dodać w niej do oryginalnych danych 3 kolumny: kolumnę jedynek (tak jak poprzednio), kolumnę $x_{1}^2$, kolumnę $x_{2}^2$, gdzie $x_{1}$ i $x_{2}$ to wyniki z matematyki i biologii odpowiednio.\n",
    "* użyć jej jako modelu podawanego fo trenowania w funkcji ```leave_one_out_CV_with_prob(df, theta0, model)```\n",
    "* narysować krzywą ROC dla nowego modelu"
   ]
  },
  {
   "cell_type": "code",
   "execution_count": null,
   "metadata": {},
   "outputs": [],
   "source": [
    "...\n",
    "##"
   ]
  },
  {
   "cell_type": "code",
   "execution_count": null,
   "metadata": {},
   "outputs": [],
   "source": [
    "%%time\n",
    "\n",
    "def logistic_func_1(theta, x):\n",
    "...\n",
    "\n",
    "theta0 = np.array([0,0,0,0,0])\n",
    "model = logistic_func_1 \n",
    "df_with_prob = leave_one_out_CV_with_prob(df, theta0, model)\n",
    "print(df_with_prob)\n",
    "\n",
    "...\n",
    "##"
   ]
  },
  {
   "cell_type": "code",
   "execution_count": null,
   "metadata": {},
   "outputs": [],
   "source": []
  }
 ],
 "metadata": {
  "colab": {
   "collapsed_sections": [],
   "name": "02M_Regresja_logistyczna.ipynb",
   "provenance": [
    {
     "file_id": "1QyygSjtzI9iNile4e8Qlcur7Qn0r_VRN",
     "timestamp": 1546856483810
    }
   ]
  },
  "kernelspec": {
   "display_name": "Python 3.9.12 ('spyder')",
   "language": "python",
   "name": "python3"
  },
  "language_info": {
   "codemirror_mode": {
    "name": "ipython",
    "version": 3
   },
   "file_extension": ".py",
   "mimetype": "text/x-python",
   "name": "python",
   "nbconvert_exporter": "python",
   "pygments_lexer": "ipython3",
   "version": "3.9.12"
  },
  "vscode": {
   "interpreter": {
    "hash": "c288bdb25ca9e4767fa3e338ce28882ca341a961656781e13252079ed73b75e0"
   }
  },
  "widgets": {
   "application/vnd.jupyter.widget-state+json": {
    "4a92c6b51368406ba79cf23ea6c1be11": {
     "model_module": "@jupyter-widgets/base",
     "model_name": "LayoutModel",
     "state": {
      "_model_module": "@jupyter-widgets/base",
      "_model_module_version": "1.2.0",
      "_model_name": "LayoutModel",
      "_view_count": null,
      "_view_module": "@jupyter-widgets/base",
      "_view_module_version": "1.2.0",
      "_view_name": "LayoutView",
      "align_content": null,
      "align_items": null,
      "align_self": null,
      "border": null,
      "bottom": null,
      "display": null,
      "flex": null,
      "flex_flow": null,
      "grid_area": null,
      "grid_auto_columns": null,
      "grid_auto_flow": null,
      "grid_auto_rows": null,
      "grid_column": null,
      "grid_gap": null,
      "grid_row": null,
      "grid_template_areas": null,
      "grid_template_columns": null,
      "grid_template_rows": null,
      "height": null,
      "justify_content": null,
      "justify_items": null,
      "left": null,
      "margin": null,
      "max_height": null,
      "max_width": null,
      "min_height": null,
      "min_width": null,
      "object_fit": null,
      "object_position": null,
      "order": null,
      "overflow": null,
      "overflow_x": null,
      "overflow_y": null,
      "padding": null,
      "right": null,
      "top": null,
      "visibility": null,
      "width": null
     }
    },
    "a6e5e2c335854c40857d817fde071239": {
     "model_module": "@jupyter-widgets/controls",
     "model_name": "ProgressStyleModel",
     "state": {
      "_model_module": "@jupyter-widgets/controls",
      "_model_module_version": "1.5.0",
      "_model_name": "ProgressStyleModel",
      "_view_count": null,
      "_view_module": "@jupyter-widgets/base",
      "_view_module_version": "1.2.0",
      "_view_name": "StyleView",
      "bar_color": null,
      "description_width": ""
     }
    },
    "c276665ac3fb4531948d896f79ef1c22": {
     "model_module": "@jupyter-widgets/controls",
     "model_name": "FloatProgressModel",
     "state": {
      "_dom_classes": [],
      "_model_module": "@jupyter-widgets/controls",
      "_model_module_version": "1.5.0",
      "_model_name": "FloatProgressModel",
      "_view_count": null,
      "_view_module": "@jupyter-widgets/controls",
      "_view_module_version": "1.5.0",
      "_view_name": "ProgressView",
      "bar_style": "",
      "description": "",
      "description_tooltip": null,
      "layout": "IPY_MODEL_4a92c6b51368406ba79cf23ea6c1be11",
      "max": 100,
      "min": 0,
      "orientation": "horizontal",
      "style": "IPY_MODEL_a6e5e2c335854c40857d817fde071239",
      "value": 100
     }
    }
   }
  }
 },
 "nbformat": 4,
 "nbformat_minor": 4
}
