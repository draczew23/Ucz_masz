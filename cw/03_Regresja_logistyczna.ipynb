{
 "cells": [
  {
   "cell_type": "markdown",
   "metadata": {
    "id": "oMv_I3EiF6Rd"
   },
   "source": [
    "# Regresja logistyczna"
   ]
  },
  {
   "cell_type": "markdown",
   "metadata": {
    "id": "yJjklVp9F6Rg"
   },
   "source": [
    "Zbudujemy klasyfikator bazujący na regresji logistycznej. Jego zadaniem będzie określanie prawdopodobieństwa przyjęcia kandydata na studia na podstawie wyników z dwóch egzaminów maturalnych (każdy przeskalowany na zakres 0-100%): z matematyki i z biologii. "
   ]
  },
  {
   "cell_type": "markdown",
   "metadata": {
    "id": "qpPO3J51F6Rj"
   },
   "source": [
    "### Przygotowanie środowiska programistycznego"
   ]
  },
  {
   "cell_type": "code",
   "execution_count": 1,
   "metadata": {},
   "outputs": [],
   "source": [
    "import pandas as pd\n",
    "import matplotlib.pyplot as plt\n",
    "import seaborn as sns\n",
    "import numpy as np\n",
    "import scipy.optimize as so"
   ]
  },
  {
   "cell_type": "markdown",
   "metadata": {},
   "source": [
    "Zestaw uczący pobieramy z repozytorium github i wczytujemy używając klasy Pandas DataFrame. Najpierw pobieramy repozytorium z github. Repozytorium zawiera kod do naszych ćwiczeń, oraz przykładowe dane w katalogu \"dane\".\n",
    "\n",
    "```\n",
    "!git clone https://github.com/akalinow/Uczenie_maszynowe -b 2022_2023\n",
    "!ln -s /content/uczenie-maszynowe-2021-22/dane/ dane\n",
    "```"
   ]
  },
  {
   "cell_type": "code",
   "execution_count": 2,
   "metadata": {},
   "outputs": [],
   "source": [
    "df = pd.read_csv(\"dane/reg_log_data.txt\", encoding='latin-1', sep=\",\", names=[\"matematyka\", \"biologia\", \"wynik\"])"
   ]
  },
  {
   "cell_type": "markdown",
   "metadata": {
    "id": "lzoi2OTNF6R7"
   },
   "source": [
    "## Analiza wizualna danych. \n",
    "\n",
    "Pierwszy krok przy analizie danych z użyciem dowolnego algorytmu to ich inspekcja. Korzystając z metod klasy DataFrame.\n",
    "\n",
    "**Proszę:**\n",
    "* wypisać na ekran framgent danych\n",
    "* narysować rozkłady wszystkich zmiennych wejściowych, w naszym przypadku wyniku egzaminów z matematyki i biologii dla całego zbioru\n",
    "* narysować rozkłady wszystkich zmiennych wejściowych, w naszym przypadku wyniku egzaminów z matematyki i biologii dla wierszy gdzie wynik=0\n",
    "* narysować rozkłady wszystkich zmiennych wejściowych, w naszym przypadku wyniku egzaminów z matematyki i biologii dla wierszy gdzie wynik=1\n",
    "\n",
    "**Wskazówka**: proszę użyć filtrowania danych, tak jak to było robione na pierwszych zajęciach."
   ]
  },
  {
   "cell_type": "code",
   "execution_count": 25,
   "metadata": {},
   "outputs": [
    {
     "name": "stdout",
     "output_type": "stream",
     "text": [
      "<class 'pandas.core.frame.DataFrame'>\n",
      "RangeIndex: 100 entries, 0 to 99\n",
      "Data columns (total 3 columns):\n",
      " #   Column      Non-Null Count  Dtype  \n",
      "---  ------      --------------  -----  \n",
      " 0   matematyka  100 non-null    float64\n",
      " 1   biologia    100 non-null    float64\n",
      " 2   wynik       100 non-null    int64  \n",
      "dtypes: float64(2), int64(1)\n",
      "memory usage: 2.5 KB\n"
     ]
    },
    {
     "data": {
      "text/plain": [
       "Ellipsis"
      ]
     },
     "execution_count": 25,
     "metadata": {},
     "output_type": "execute_result"
    },
    {
     "data": {
      "image/png": "[encoded data removed]",
      "text/plain": [
       "<Figure size 432x288 with 4 Axes>"
      ]
     },
     "metadata": {
      "needs_background": "light"
     },
     "output_type": "display_data"
    },
    {
     "data": {
      "image/png": "[encoded data removed]",
      "text/plain": [
       "<Figure size 432x288 with 4 Axes>"
      ]
     },
     "metadata": {
      "needs_background": "light"
     },
     "output_type": "display_data"
    }
   ],
   "source": [
    "# określenie rozmiaru rysunku\n",
    "figsize=(15,5)\n",
    "# wypisanie informacji o dataframe\n",
    "df.info()\n",
    "# histogramy dla wszystkich kolumn w danych\n",
    "df.hist()\n",
    "# histogramy tylko dla osób które zdały\n",
    "\n",
    "df_passed = df[df['wynik']==1]\n",
    "df_passed.hist()\n",
    "...\n",
    "# x.set_axis_labels('matematyka', 'biologia', fontsize=16);\n",
    "\n",
    "#wykres dla wszyskich danych. Kategorie zdali/nie zdali są zaznaczone odpowiednim kolorem\n",
    "...\n",
    "# x.set_axis_labels('matematyka', 'biologia', fontsize=16);"
   ]
  },
  {
   "cell_type": "markdown",
   "metadata": {
    "id": "KCic0Ta2F6SH"
   },
   "source": [
    "## Hipoteza\n",
    "Dla przypomnienia _hipoteza_ w regresji logistycznej ma postać: \n",
    "\n",
    "$\\qquad$ $h_\\theta(x) = \\frac{1}{1+\\exp(-\\theta x^T )}$.\n",
    "\n",
    "W implementacji dobrze jest myśleć o tej funkcji tak:\n",
    "\n",
    "$\\qquad$ $h_\\theta(x) = \\frac{1}{1+f}$.\n",
    "\n",
    "gdzie: $f = \\exp(-\\theta x^T)$\n",
    "\n",
    "**Proszę** napisać funkcję ```logistic_func(x, theta)``` która:\n",
    "\n",
    "* implementuje funkcję logistyczną\n",
    "* jako argumenty przyjmuje parametry regresji logistycznej  $(\\theta_{0}, \\theta_{1}, ..., \\theta_{i})$ oraz tablicę danych wejściowych $x$. \n",
    "* w kodzie fukcji proszę rozszerzyć tablicę $x$ o dodatkową kolumnę jedynek, by parametr $\\theta_{0}$ był traktowany na tej same zasadzie co pozostałe parametry\n",
    "* ze względu na stabilność numeryczną obliczeń ma ograniczony zakres zmienności. Proszę ograniczyć wartości wykładnika w mianowniku do zakresu  $\\pm18$\n",
    "\n",
    "**Ostrzeżenie:** x to tablica która może zawierać wiele kolumn i wiele wierszy.\n",
    "\n",
    "**Wskazówka**: ograniczając zakres zwracanych wartości proszę skorzystać z funkcji np.where() zaaplikowanej do wektora wartości wykładnika.\n",
    "\n",
    "Proszę sprawdzić działanie funkcji na następujących danych testowych:\n",
    "```Python\n",
    "theta = np.array([1,1,2])\n",
    "x = np.array([[5,5],\n",
    "              [5,6],\n",
    "              [-5,-5],\n",
    "              [-5,-8]])\n",
    "```\n",
    "Oczekiwany wynik:\n",
    "```\n",
    "[9.99999887e-01 9.99999985e-01 8.31528028e-07 1.52299795e-08]\n",
    "```"
   ]
  },
  {
   "cell_type": "code",
   "execution_count": 5,
   "metadata": {},
   "outputs": [
    {
     "name": "stdout",
     "output_type": "stream",
     "text": [
      "[9.99999887e-01 9.99999985e-01 8.31528028e-07 1.52299795e-08]\n"
     ]
    }
   ],
   "source": [
    "def logistic_func(theta, x):\n",
    "    # dodaj kolumne jedynek\n",
    "...\n",
    "    # policz argument funkcji\n",
    "...\n",
    "    # uzyj np.where żeby ograniczyc wartosci parmetru do [-18,18]\n",
    "...\n",
    "    return 1.0/(1+np.exp(-arg))\n",
    "\n",
    "theta = np.array([1,1,2])\n",
    "x = np.array([[5,5],\n",
    "              [5,6],\n",
    "              [-5,-5],\n",
    "              [-5,-8]])\n",
    "res = logistic_func(theta, x)\n",
    "\n",
    "# sprawdzenie poprawności rozmiaru listy\n",
    "assert res.shape == (4,)\n",
    "print(res)"
   ]
  },
  {
   "cell_type": "markdown",
   "metadata": {
    "id": "ARAowqB7F6SP"
   },
   "source": [
    "## Funkcja log-wiarygodności (LLH): \n",
    "Parametry regresji znajdujemy przez maksymalizację [funkcji log-wiarygodności](https://brain.fuw.edu.pl/edu/index.php/Uczenie_maszynowe_i_sztuczne_sieci_neuronowe/Wykład_6#Funkcja_wiarygodno.C5.9Bci):\n",
    "\n",
    "$\\qquad$ $l(\\theta) = \\log L(\\theta) = \\sum_{j=1}^m y^{(j)} \\log h(x^{(j)}) + (1 - y^{(j)}) \\log (1 - h(x^{(j)}))$,\n",
    "gdzie:  \n",
    "\n",
    "m - liczebność próbki\n",
    "\n",
    "x - dane wejściowe, u nas wyniki z egaminów z matematyki i biologii\n",
    "\n",
    "y - dane wyjściowe, u nas wynik rekrutacji na studia\n",
    "\n",
    "h - postać zależności wyniku od danych wejściowych. U nas to jest funkcja logistyczna, czyli oczekujemy, że wzór y = h(x) dobrze opisuje zależnośc między danymi wejściowymi, a wyjściowymi.\n",
    "\n",
    "\n",
    "<hr>\n",
    "\n",
    "**Proszę** napisać funkcję ```log_likelihood(theta, x,y, model)``` która:\n",
    "\n",
    "* implementuje funkcję log-wiarygodności\n",
    "* jako argumenty przyjmuje parametry regresji logistycznej  $(\\theta_{0}, \\theta_{1}, ..., \\theta_{i})$ oraz tablicę danych wejściowych $x, y$. \n",
    "* model dla którego szukamy parametrów $\\theta_{i}$ w naszym przypadku to będzie funkcja logistyczna: ```logistic_func```\n",
    "\n",
    "**Uwaga**: argument $theta$ musi być pierwszy "
   ]
  },
  {
   "cell_type": "code",
   "execution_count": 6,
   "metadata": {},
   "outputs": [],
   "source": [
    "def log_likelihood(theta, x, y, model):\n",
    "...\n",
    "    return result"
   ]
  },
  {
   "cell_type": "markdown",
   "metadata": {
    "id": "7pCk325NF6SS"
   },
   "source": [
    "Maksymalizacja to zadanie optymalizacyjne - szukamy optymalnych parametrów, a kryterium optymalności to maksymalna wartość funckji log-wiarygodności.\n",
    "W tym ćwiczeniu zrobimy to za pomocą funkcji optymalizacyjnych z modułu [<tt>scipy.optimize</tt>]( http://docs.scipy.org/doc/scipy/reference/optimize.html#module-scipy.optimize). \n",
    "\n",
    "\n",
    "Wynikają z tego dwie konsekwencje:\n",
    "* funkcje te są przystosowane do szukania minimów funkcji celu. Musimy więc podawać im jako argumenty funkcję minus log-wiarygodności\n",
    "* niektóre algorytmy mogą działać szybciej jeśli zaimplementujemy jawnie postać pochodnej:\n",
    "\n",
    "$\\qquad$ $\n",
    "\\begin{array}{lcl}\n",
    "\\frac{\\partial}{\\partial \\theta_i} l(\\theta)  =\\sum_{j=1}^m (y^{(j)}-h_\\theta(x^{(j)}))x_i^{(j)}\n",
    "\\end{array}\n",
    "$"
   ]
  },
  {
   "cell_type": "markdown",
   "metadata": {},
   "source": [
    "**Proszę** napisać funkcję ```negative_log_likelihood(theta, x,y, model)``` która:\n",
    "\n",
    "* zwraca funkcję log-wiarygodności pomnożoną przez $-1$"
   ]
  },
  {
   "cell_type": "code",
   "execution_count": 7,
   "metadata": {},
   "outputs": [],
   "source": [
    "def negative_log_likelihood(theta, x, y, model):\n",
    "...\n",
    "    "
   ]
  },
  {
   "cell_type": "markdown",
   "metadata": {},
   "source": [
    "**Proszę** napisać funkcję ```log_likelihood_derivative(theta, x,y, model)``` oraz ```negative_log_likelihood_derivative(theta, x,y, model)``` które:\n",
    "\n",
    "* zwraca funkcję pochodną log-wiarygodności\n",
    "* zwraca funkcję pochodną log-wiarygodności pomnożoną przez $-1$\n",
    "\n",
    "**Uwaga**: mnożąc przez $x_{i}$ trzeba uwzględnić kolumnę jedynek"
   ]
  },
  {
   "cell_type": "code",
   "execution_count": 8,
   "metadata": {},
   "outputs": [],
   "source": [
    "def log_likelihood_derivative(theta, x, y, model):\n",
    "    # odpowiedź modelu na dane\n",
    "...\n",
    "    # różnica odpowiedzi modelu i wartości prawdziwej\n",
    "...\n",
    "    # obliczenie pochodnej wysumowanej po wszyskich przykładach\n",
    "...\n",
    "    #sprawdzenie poprawności rozmiaru wyniku\n",
    "    assert result.shape == theta.shape\n",
    "    return result\n",
    "\n",
    "def negative_log_likelihood_derivative(theta, x, y, model):\n",
    "    return -log_likelihood_derivative(theta, x, y, model)"
   ]
  },
  {
   "cell_type": "markdown",
   "metadata": {
    "id": "HgN1eW3HF6Sc"
   },
   "source": [
    "## Procedura minimalizacji funkcji log-wiarygodności ze wsględu na parametry $\\theta$ dla konkretnych danych.\n",
    "\n",
    "W naszym przypadku mamy trzy parametry $\\theta$ - mnożące odpowiednio 1, wynik z matematyki, wynik z biologii.\n",
    "\n",
    "**Proszę:**\n",
    "* zainicjalizować parametry $\\theta_{0}, \\theta_{1}, \\theta_{2}$ na wartości 0.\n",
    "* obliczyć wartość i pochodną funkcji wiarygodności na danych początkowych \n",
    "\n",
    "Poprawny wynik to:\n",
    "```\n",
    "Wartość funkcji log-wiarygodności dla zbioru testowego = -69.31471805599453\n",
    "Wartość pochodnej funkcji log-wiarygodności dla zbioru testowego = [  10.         1200.92165893 1126.28422055]\n",
    "```"
   ]
  },
  {
   "cell_type": "code",
   "execution_count": 9,
   "metadata": {},
   "outputs": [
    {
     "name": "stdout",
     "output_type": "stream",
     "text": [
      "Wartość funkcji log-wiarygodności dla zbioru testowego = -69.31471805599453\n",
      "Wartość pochodnej funkcji log-wiarygodności dla zbioru testowego = [  10.         1200.92165893 1126.28422055]\n"
     ]
    }
   ],
   "source": [
    "...\n",
    "\n",
    "# wartość funkcji log-wiarygodności\n",
    "...\n",
    "# wartość pochodnej\n",
    "...\n",
    "\n",
    "print(\"Wartość funkcji log-wiarygodności dla zbioru testowego = {}\".format(llh))\n",
    "print(\"Wartość pochodnej funkcji log-wiarygodności dla zbioru testowego = {}\".format(llh_derivative))"
   ]
  },
  {
   "cell_type": "markdown",
   "metadata": {
    "id": "cxsFdI1sF6Sv"
   },
   "source": [
    "## Optymalizacja  \n",
    "\n",
    "Funkcje optymalizujące zaczerpniemy z modułu scipy.optimize: ```scipy.optimize.fmin_bfgs```. Ponieważ funkcje te są zaimplementowane do mnimalizowania to zamiast maksymalizować funkcję low-wiarygodności będziemy minimalizować tą funkcje przemnożoną przez -1 czyli ```f=negative_log_likelihood``` oraz ```fprime=negative_log_likelihood_derivative```\n",
    "\n",
    "**Proszę:**\n",
    "\n",
    "* wywołać funckję ```scipy.optimize.fmin_bfgs``` z odpowiednimi argumentami.\n",
    "* porównać liczbę wywołań i czas wykonywania komórki z i bez podania explicite postaci pochodnej\n",
    "(https://ipython.readthedocs.io/en/stable/interactive/magics.html?highlight=%25time#cell-magics)\n",
    "\n",
    "Oczekiwany wynik:\n",
    "```\n",
    "Optymalne wartości parametrów theta: [-25.16123454   0.20623093   0.20147076]\n",
    "Wartość funkcji log-wiarygodności dla optymalnych parametrów: -20.349770159101467\n",
    "```"
   ]
  },
  {
   "cell_type": "code",
   "execution_count": 10,
   "metadata": {},
   "outputs": [
    {
     "name": "stdout",
     "output_type": "stream",
     "text": [
      "Warning: Desired error not necessarily achieved due to precision loss.\n",
      "         Current function value: 20.349770\n",
      "         Iterations: 20\n",
      "         Function evaluations: 124\n",
      "         Gradient evaluations: 31\n",
      "Optymalne wartości parametrów theta: [-25.16123454   0.20623093   0.20147076]\n",
      "Wartość funkcji log-wiarygodności dla optymalnych parametrów: -20.349770159101467\n",
      "CPU times: user 56.8 ms, sys: 745 µs, total: 57.6 ms\n",
      "Wall time: 55.7 ms\n"
     ]
    }
   ],
   "source": [
    "%%time \n",
    "# komenda ``time``` włącza licznik czasu wykonywania komórki\n",
    "\n",
    "model = logistic_func\n",
    "\n",
    "# poszukiwanie optymalnych wartości parametrów theta\n",
    "...\n",
    "# wartość LLH z optymalnymi parametrami\n",
    "...\n",
    "\n",
    "print('Optymalne wartości parametrów theta: {}'.format(theta_opt))\n",
    "print(\"Wartość funkcji log-wiarygodności dla optymalnych parametrów: {}\".format(llh))"
   ]
  },
  {
   "cell_type": "markdown",
   "metadata": {
    "id": "UtH3eaZOF6S4"
   },
   "source": [
    "## Wyniki modelu\n",
    "Wyniki regresji logistycznej możemy odbierać na dwa sposoby:\n",
    "* obliczyć wartość hipotezy dla badanego wejścia i dopasowanych parametrów: miara ta ma interpretację prawdopodobieństwa przynależności wejścia do klasy 1,\n",
    "* dopisać funkcję wykonującą klasyfikację, tzn. porównanie wartości hipotezy z 1/2: \n",
    "  * dla wartości hipotezy > 1/2 klasyfikacja zwraca 1, \n",
    "  * w przeciwnym razie 0.\n",
    "  \n",
    "  \n",
    "**Proszę** napisać funkcję ```classification(theta, x)```  która:\n",
    "* jako argument przyjmuje wektora parametrów modelu $\\theta$, tablicę danych wejściowych $x$, oraz $model$\n",
    "* zwraca listę klasyfikacyjną: $1$ gdy $model(x)>0.5$, a $0$ w przeciwnym przypadku"
   ]
  },
  {
   "cell_type": "code",
   "execution_count": 11,
   "metadata": {},
   "outputs": [],
   "source": [
    "def classification(theta, x, model):\n",
    "...\n",
    "    return model_result>0.5"
   ]
  },
  {
   "cell_type": "markdown",
   "metadata": {
    "id": "rUmEhM5WF6S8"
   },
   "source": [
    "## Procedura klasyfikacji\n",
    "\n",
    "**Proszę:**\n",
    "\n",
    "* korzystając z modelu ```logistic_func``` wraz z parametrami zwróconymi przez procedurę optymalizacyjną obliczyć prawdopobobieństwo zdania\n",
    "  osoby, która uzyskała 20 pkt. z matematyki, oraz 80 z biologii.\n",
    "* korzystając z funckji \"classification\" wyznaczyć czy osoba należy do   klasy $0$ czy $1$.\n",
    "\n",
    "Oczekiwany wynik:\n",
    "```\n",
    "Osoba z 20 pkt z matematyki, oraz 80 pkt. z biologii ma 0.725% szans na przyjęcie na studia.\n",
    "Osoba zalicza się do klasy: [0]\n",
    "```"
   ]
  },
  {
   "cell_type": "code",
   "execution_count": 12,
   "metadata": {},
   "outputs": [
    {
     "name": "stdout",
     "output_type": "stream",
     "text": [
      "Osoba z 20 pkt z matematyki, oraz 80 pkt. z biologii ma 0.725% szans na przyjęcie na studia.\n",
      "Osoba zalicza się do klasy: [0]\n"
     ]
    }
   ],
   "source": [
    "# syntetyczne dane odpowiadające osobie z polecenia\n",
    "...\n",
    "# odpowiedź modelu na synetyczne dane\n",
    "...\n",
    "\n",
    "print(\"Osoba z {} pkt z matematyki, oraz {} pkt. z biologii ma {}% szans na przyjęcie na studia.\".format(x[0,0], x[0,1], round(p[0]*100,3)))\n",
    "\n",
    "# Klasyfikacja zdał/nie zdał\n",
    "...\n",
    "print(\"Osoba zalicza się do klasy: {}\".format(class_number))"
   ]
  },
  {
   "cell_type": "markdown",
   "metadata": {
    "id": "YtZFghLDF6TE"
   },
   "source": [
    "Narysujmy uzyskany podział. Na tle punktów pokolorowanych zgodnie z przynależnością do klas dorysujemy prostą rozgraniczającą obszary \"1\" od \"0\".   Ma ona równanie \n",
    "\n",
    "$\\qquad$ $h_\\theta(x)=1/2$, \n",
    "\n",
    "tzn:\n",
    "\n",
    "$\\qquad$ $\\theta x^T = 0$\n",
    "\n",
    "czyli \n",
    "\n",
    "$\\theta_0 +\\theta_1 x_1 + \\theta_2 x_2 =0 $\n",
    "\n",
    "Przekształcając to do równania prostej we współrzędnych $(x_1,x_2)$ mamy:\n",
    "\n",
    "$- \\theta_2 x_2 = \\theta_0 +\\theta_1 x_1 $\n",
    "\n",
    "$ x_2 = - \\frac{1}{\\theta_2}( \\theta_0 +\\theta_1 x_1 )$"
   ]
  },
  {
   "cell_type": "code",
   "execution_count": 13,
   "metadata": {},
   "outputs": [
    {
     "data": {
      "image/png": "[encoded data removed]",
      "text/plain": [
       "<Figure size 360x360 with 1 Axes>"
      ]
     },
     "metadata": {
      "needs_background": "light"
     },
     "output_type": "display_data"
    }
   ],
   "source": [
    "df_passed = df[df[\"wynik\"]==1]\n",
    "df_failed = df[df[\"wynik\"]==0]\n",
    "\n",
    "fig, axes = plt.subplots(1,1, figsize=(5,5))\n",
    "# niebieskie pukty na płaszyźnie ```x=\"matematyka\", y=\"biologia\"``` dla osób które zdały.  \n",
    "...\n",
    "# czerwone pukty na płaszyźnie ```x=\"matematyka\", y=\"biologia\"``` dla osób które nie zdały.\n",
    "...\n",
    "\n",
    "# prosta rodzielająca klasy\n",
    "x = np.array([df[\"matematyka\"].min(),df[\"matematyka\"].max()])\n",
    "...\n",
    "\n",
    "axes.plot(x,y, label=\"logistic regression model\")\n",
    "axes.legend();"
   ]
  },
  {
   "cell_type": "markdown",
   "metadata": {},
   "source": [
    "# Zadanie domowe\n",
    "\n",
    "Zastosowanie regresji liniowej do innego rodzaju danych.\n",
    "\n",
    "**Proszę:**\n",
    "\n",
    "* wygenerować syntetyczne wyniki 100 egzaminów z biologi i matematyki według rozkładu płaskiego w zakresie ```[0,100]``` punktów\n",
    "* proszę wygenerować efekt rekrutacji na studia według wzoru:\n",
    "$$\n",
    "\\text{zdał} = \\sqrt{(\\text{wynik_z_matematyki}-50)^{2} + (\\text{wynik_z_biologii}-50)^{2}}>25\n",
    "$$\n",
    "\n",
    "* narysować rozkład osób które zdały/nie zdały na płaszczyście ```x=\"matematyka\", y=\"biologia\"```\n",
    "* przeprowadzić trening regresji logistycznej dla tych danych\n",
    "* narysować krzywą rozdzielającą kategorie\n",
    "* odpowiedzieć na pytanie \"Czy krzywa poprawnie rozdziela kategorie?\""
   ]
  },
  {
   "cell_type": "code",
   "execution_count": 15,
   "metadata": {},
   "outputs": [
    {
     "name": "stdout",
     "output_type": "stream",
     "text": [
      "Optimization terminated successfully.\n",
      "         Current function value: 484.634879\n",
      "         Iterations: 13\n",
      "         Function evaluations: 23\n",
      "         Gradient evaluations: 23\n",
      "Optymalne wartości parametrów theta: [-1.39254844e+00 -1.44333933e-03  1.60889312e-04]\n"
     ]
    },
    {
     "data": {
      "image/png": "[encoded data removed]",
      "text/plain": [
       "<Figure size 432x432 with 3 Axes>"
      ]
     },
     "metadata": {
      "needs_background": "light"
     },
     "output_type": "display_data"
    }
   ],
   "source": [
    "nPoints = 1000\n",
    "...\n",
    "\n",
    "jointPlot.ax_joint.plot(x,y, label=\"logistic regression model\");\n",
    "# ograniczenie zakresu osi Y\n",
    "#jointPlot.ax_joint.set_ylim(([df[\"biologia\"].min(),df[\"biologia\"].max()]))"
   ]
  },
  {
   "cell_type": "code",
   "execution_count": null,
   "metadata": {},
   "outputs": [],
   "source": []
  }
 ],
 "metadata": {
  "colab": {
   "collapsed_sections": [],
   "name": "02M_Regresja_logistyczna.ipynb",
   "provenance": [
    {
     "file_id": "1QyygSjtzI9iNile4e8Qlcur7Qn0r_VRN",
     "timestamp": 1546856483810
    }
   ]
  },
  "kernelspec": {
   "display_name": "Python 3.9.12 ('spyder')",
   "language": "python",
   "name": "python3"
  },
  "language_info": {
   "codemirror_mode": {
    "name": "ipython",
    "version": 3
   },
   "file_extension": ".py",
   "mimetype": "text/x-python",
   "name": "python",
   "nbconvert_exporter": "python",
   "pygments_lexer": "ipython3",
   "version": "3.9.12"
  },
  "vscode": {
   "interpreter": {
    "hash": "c288bdb25ca9e4767fa3e338ce28882ca341a961656781e13252079ed73b75e0"
   }
  },
  "widgets": {
   "application/vnd.jupyter.widget-state+json": {
    "4a92c6b51368406ba79cf23ea6c1be11": {
     "model_module": "@jupyter-widgets/base",
     "model_name": "LayoutModel",
     "state": {
      "_model_module": "@jupyter-widgets/base",
      "_model_module_version": "1.2.0",
      "_model_name": "LayoutModel",
      "_view_count": null,
      "_view_module": "@jupyter-widgets/base",
      "_view_module_version": "1.2.0",
      "_view_name": "LayoutView",
      "align_content": null,
      "align_items": null,
      "align_self": null,
      "border": null,
      "bottom": null,
      "display": null,
      "flex": null,
      "flex_flow": null,
      "grid_area": null,
      "grid_auto_columns": null,
      "grid_auto_flow": null,
      "grid_auto_rows": null,
      "grid_column": null,
      "grid_gap": null,
      "grid_row": null,
      "grid_template_areas": null,
      "grid_template_columns": null,
      "grid_template_rows": null,
      "height": null,
      "justify_content": null,
      "justify_items": null,
      "left": null,
      "margin": null,
      "max_height": null,
      "max_width": null,
      "min_height": null,
      "min_width": null,
      "object_fit": null,
      "object_position": null,
      "order": null,
      "overflow": null,
      "overflow_x": null,
      "overflow_y": null,
      "padding": null,
      "right": null,
      "top": null,
      "visibility": null,
      "width": null
     }
    },
    "a6e5e2c335854c40857d817fde071239": {
     "model_module": "@jupyter-widgets/controls",
     "model_name": "ProgressStyleModel",
     "state": {
      "_model_module": "@jupyter-widgets/controls",
      "_model_module_version": "1.5.0",
      "_model_name": "ProgressStyleModel",
      "_view_count": null,
      "_view_module": "@jupyter-widgets/base",
      "_view_module_version": "1.2.0",
      "_view_name": "StyleView",
      "bar_color": null,
      "description_width": ""
     }
    },
    "c276665ac3fb4531948d896f79ef1c22": {
     "model_module": "@jupyter-widgets/controls",
     "model_name": "FloatProgressModel",
     "state": {
      "_dom_classes": [],
      "_model_module": "@jupyter-widgets/controls",
      "_model_module_version": "1.5.0",
      "_model_name": "FloatProgressModel",
      "_view_count": null,
      "_view_module": "@jupyter-widgets/controls",
      "_view_module_version": "1.5.0",
      "_view_name": "ProgressView",
      "bar_style": "",
      "description": "",
      "description_tooltip": null,
      "layout": "IPY_MODEL_4a92c6b51368406ba79cf23ea6c1be11",
      "max": 100,
      "min": 0,
      "orientation": "horizontal",
      "style": "IPY_MODEL_a6e5e2c335854c40857d817fde071239",
      "value": 100
     }
    }
   }
  }
 },
 "nbformat": 4,
 "nbformat_minor": 4
}
